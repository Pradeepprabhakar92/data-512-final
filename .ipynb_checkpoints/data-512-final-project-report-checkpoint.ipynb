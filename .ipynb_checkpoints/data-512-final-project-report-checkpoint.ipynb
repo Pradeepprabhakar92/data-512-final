{
 "cells": [
  {
   "cell_type": "markdown",
   "metadata": {},
   "source": [
    "# Exploring racial disparities in police killings in the US\n",
    "\n",
    "#### Pradeep Prabhakar(prdp1992@uw.edu) MSDS, UW"
   ]
  },
  {
   "cell_type": "markdown",
   "metadata": {},
   "source": [
    "## Table of Contents\n",
    "\n",
    "* [Introduction](#introduction)\n",
    "* [Data](#data)\n",
    "* [Background and Related Work](#background)\n",
    "* [Research questions or hypotheses](#researchquestions)\n",
    "* [Methodology](#methodology)\n",
    "* [Data preparation](#dataprep)\n",
    "* [Analysis and Findings](#findings)\n",
    "* [Discussion](#discussion)\n",
    "* [Conclusion](#conclusion)"
   ]
  },
  {
   "cell_type": "markdown",
   "metadata": {},
   "source": [
    "## Introduction <a class=\"anchor\" id=\"introduction\"></a>\n",
    "\n",
    "<p style='text-align: justify;'> \n",
    "   The issue of racial bias in policing in the US has been a widely discussed and debated topic over the past few years in the US. The use of excessive force that resulted in the death of George Floyd in May, 2020 triggered protests across the globe and reignited the Black Lives Matter movement that called for various measures ranging from law enforcement reforms to defunding the police departments.  While data unavailability on police encounters and killings has posed major challenges to making policy reforms in the past, significant progress has been made in the past 5 years, thanks to the efforts of journal institutions like the Washington post, independent researchers and crowdsourcing databases. Setting aside my preconceived notions and opinions, analyzing the data firsthand to understand how these police killings affect different racial/ethnic groups is an impactful exercise as it has a strong human-centered outlook. </p>\n",
    "<p style='text-align: justify;'>\n",
    "My analysis therefore looks at the police killings in the US between 2013 and 2019, explores racial disparities, if any, in these killings and its impact on different racial and ethnic groups at a nation and state level.  Any insights on racial inequality in these killings will serve as an evidence that will support policy reforms around training and hiring of law enforcement officers, thereby resulting in reduced number of fatalities among both civilians and police officers. </p>"
   ]
  },
  {
   "cell_type": "markdown",
   "metadata": {},
   "source": [
    "## Data <a class=\"anchor\" id=\"data\"></a>\n",
    "\n",
    "In order to understand the effect of police killings on different racial groups in the US, I will be using the following data sources:\n",
    "\n",
    "* [mappingpoliceviolence.org](https://mappingpoliceviolence.org/aboutthedata) – a research collaborative that collects comprehensive data on police killings nationwide in the US (7,642 killings between 2013 and 2019). Mapping police violence meticulously sources information from the three largest, most comprehensive, and impartial crowdsourced databases on police killings in the country: [FatalEncounters.org](https://fatalencounters.org/), the [U.S. Police Shootings Database](http://homicidecenter.org/services/resources/police-shootings/) and [KilledbyPolice.net](https://killedbypolice.net/). Any case where a person dies as a result of being shot, beaten, restrained, intentionally hit by a police vehicle, pepper sprayed, tasered, or otherwise harmed by police officers, whether on-duty or off-duty is defined as a police killing in the database.\n",
    "\n",
    "    Following is a sample set of attributes found in the police killings data\n",
    "\n",
    "| Attributes                                                                        |\n",
    "|-----------------------------------------------------------------------------------|\n",
    "| Victim's name                                                                     |\n",
    "| Victim's age                                                                      |\n",
    "| Victim's gender                                                                   |\n",
    "| Victim's race                                                                     |\n",
    "| Date of Incident (month/day/year)                                                 |\n",
    "| Street Address of Incident                                                        |\n",
    "| City                                                                              |\n",
    "| State                                                                             |\n",
    "| Zipcode                                                                           |\n",
    "| County                                                                            |\n",
    "| Agency responsible for death                                                      |\n",
    "| Cause of death                                                                    |\n",
    "| A brief description of the circumstances surrounding the death                    |\n",
    "| Criminal Charges                                                                  |\n",
    "| Unarmed/Did Not Have an Actual Weapon                                             |\n",
    "| Alleged Weapon                                                                    |\n",
    "| Geography                                                                         |\n",
    "\n",
    "  While the license for the datasets are not explicitly mentioned on the website, [texts](https://mappingpoliceviolence.org/) on the website suggest that they are available for public/academic usage:\n",
    "  > \"*Researchers and journalists have utilized Mapping Police Violence data to expand our collective understanding of how police violence impacts communities and how to address it*. \"\n",
    "\n",
    "* [US Census Bureau](https://www.census.gov/en.html) – provides population estimates by race and ethnicity at a nation and state level\n",
    "\n",
    "* [Uniform Crime Reporting](https://www.fbi.gov/services/cjis/ucr/) - The FBI’s Uniform Crime Reporting (UCR) program collects arrest data on 28 offenses for each year and provides summary by race and ethnicity\n",
    "\n",
    "* [State abbreviations](https://worldpopulationreview.com/states/state-abbreviations) - Provides state code to state name mapping for the 50 states and District of Columbia"
   ]
  },
  {
   "cell_type": "markdown",
   "metadata": {},
   "source": [
    "## Background and related work <a class=\"anchor\" id=\"background\"></a>\n",
    "\n",
    "About ~1000 civilians are killed each year by law enforcement officers in the United States. Given the importance of data, databases such as Fatal Encounters, Mapping Police Violence and The Washington Post’s Fatal Force project have tracked the killings year after year. Many works have been conducted in the past that looked for patterns in the police killings across different races and ethnic groups. The article from [J.Nix et al.](https://onlinelibrary.wiley.com/doi/abs/10.1111/1745-9133.12269) analyzed 990 police shootings compiled by *The Washington Post* in 2015 for evidence of implicit bias, and the [mapping fatal police violence](https://www.ncbi.nlm.nih.gov/pmc/articles/PMC7313728/) article analyzed police killings from *Fatal Encounters* for overall rates of police violence across the US as well as racial inequities. The article in [nature](https://www.nature.com/articles/d41586-019-02601-9) talks about how racial biases play into deadly encounetrs with the police. A recent analysis from [FiveThirtyEight](https://fivethirtyeight.com/features/police-are-killing-fewer-people-in-big-cities-but-more-in-suburban-and-rural-america/) observed that police are killing fewer people in big cities, but more in suburban and rural America. [Cesario et al.](https://journals.sagepub.com/doi/pdf/10.1177/1948550618775108?casa_token=_N3odsRI6hgAAAAA:xgFM5qlG8_Adnt71zigWl5lllYtyDTTRgnUC_MZ84ACGqNVWGW-IecS1b29udyyDF4_-qq7gOOf2), in their study analyzed fatal police shootings for an evidence of Black-White disparity, if any, by benchmarking on crime rate estimates. The study found no systematic evidence of anti-Black disparities in fatal shootings, fatal shootings of unarmed citizens, or fatal shootings involving misidentification of harmless objects. "
   ]
  },
  {
   "cell_type": "markdown",
   "metadata": {},
   "source": [
    "## Research questions or hypotheses <a class=\"anchor\" id=\"researchquestions\"></a>\n",
    "\n",
    "My analysis will attempt to answer the following research questions\n",
    "\n",
    "**1. Are individuals in minority racial/ethnic groups likely to be killed by the police disproportionately?** \n",
    "  * *Null Hypothesis: Rate of police killings across the races are consistent with the rate of crime arrests across the races* \n",
    "        \n",
    "    Contrary to the usual method of using population estimates as a benchmark, [Cesario et al.](https://journals.sagepub.com/doi/pdf/10.1177/1948550618775108?casa_token=_N3odsRI6hgAAAAA:xgFM5qlG8_Adnt71zigWl5lllYtyDTTRgnUC_MZ84ACGqNVWGW-IecS1b29udyyDF4_-qq7gOOf2), in their study used arrests estimates as a benchmark and justified this with the following argument:\n",
    "        \n",
    "   >*In terms of understanding racial disparities in death by police gunfire, adjusting raw shooting values by population proportions necessarily requires that White and Black citizens are equally likely to occupy situations in which deadly force is used. If this assumption does not hold, then adjusting raw fatal shooting data for overall population values is in error*  \n",
    "\n",
    "    This prompted me to use arrests data as the benchmark as I believe this is an appropriate measure, as is also evident in the data\n",
    "\n",
    "**2. Are individuals in minority racial/ethnic groups likely to be killed by the police disproportionately when unarmed during an encounter?**\n",
    "   * *Null Hypothesis: Rate of police killings involving unarmed victims across races are consistent with the rate of overall police killings across the races*\n",
    "        \n",
    "        Being a police officer is extremely difficult as they have to make split second decisions especially during encounters where the suspect is allegedly armed. However, when unarmed, the police have the complete control and fatal killings in such instances could be avoided and is a better indicator to examine the presence of any racial disparities. \n",
    "        \n",
    "**3. Are individuals in minority racial/ethnic groups disproportionately killed by the police across the states?**\n",
    "   * Which states exhibit a high degree of racial disparity in police killings, if any?\n"
   ]
  },
  {
   "cell_type": "markdown",
   "metadata": {},
   "source": [
    "## Methodology <a class=\"anchor\" id=\"methodology\"></a>\n",
    "\n",
    "**1. Are individuals in minority racial/ethnic groups likely to be killed by the police disproportionately?**\n",
    "\n",
    "   * The police killings data along with the arrests summary was used to answer this research question. The input excel files required some extensive preprocessing and transformation necessary to carry out the analysis, for which pandas and numpy libraries were used. The columns in both the input dataframes were cleaned to remove any special characters and were appropriately renamed.\n",
    "   * The police killings data was filtered from 2013 Jan to 2019 Dec, and any killing for which the race was blank or *Unknown* was excluded from the analysis. For the arrests data, 2019 estimates were used. Since Hispanic is considered as an ethnicity and not a race, UCR's data for the 5 races includes Hispanic population as well, along with numbers for Hispanic vs. Non Hispanic. To ensure that Hispanic population is removed from the 5 races, the actual arrests counts were not used for the 5 races and instead the Non-Hispanic arrest counts were apportioned to them based on the arrests distribution\n",
    "   * Once we transformed the data, matplotlib and searborn were used to perform exploratory analysis that supported the question\n",
    "   * In order to carry out the hypothesis testing, Chi-square goodness of fit test will be used that will tell us if the actual distribution of killings (counts) are significantly different from what we would expect the distribution to be based on the arrests data. Since we have two sets of distibution and both meet the two criteria of independence and sample cell counts of atleast 5, chi-square is the most appropriate test to test our hypothesis. A significant p-value would likely indicate racial bias in the police killings. The [scipy.stats.chisquare](https://docs.scipy.org/doc/scipy/reference/generated/scipy.stats.chisquare.html) function from the scipy library will be used to conduct the test.\n",
    "\n",
    "**2. Are individuals in minority racial/ethnic groups likely to be killed by the police disproportionately when unarmed during an encounter?**\n",
    "\n",
    "   * The 'Unarmed/Did Not Have an Actual Weapon' along with the 'victim's race' attribute was used to answer this research question. Among the four values, 'Vehicle' and 'Unclear' were excluded from the test and only killings where the victim was either - 'Allegedly Armed' or 'Unarmed/Did Not Have an Actual Weapon' were used. \n",
    "   * If the likelihood of an individual being killed by a police unarmed is independent of race, we should expect the victim counts to be consistent with that of the overall distribution(Armed+Unarmed counts) across the races. A significant deviation here would indicate a likely racial disparity. Once again, Chi-square goodness of fit test will be used to test the hypothesis. Since the cell counts for 'Pacific Islander' was less than 5, it was grouped along with 'Native American' as others in order to carry out the test.\n",
    "\n",
    "\n",
    "**3. Are individuals in minority racial/ethnic groups disproportionately killed by the police across the states?**\n",
    "\n",
    "   * The police killings data along with 2019 population estimates from US Census was used to answer this research question. Since the police killings has only state code, a state mapping file was used to obtain the corresponding state names. The census data was aggregated by race and ethnicity for each state (including District of Columbia) to obtain the final estimates for the 6 races(including Hispanic). \n",
    "   * To carry out a fair comparison across the states and races, the *victim rate per million people per year* metric was calculated and used, as it helps to do an objective comparison on states and races with varying population numbers. To identify states with the largest Black-White disparity, the difference in victim rate was calculated, and the subsequent exploratory analysis was carried out using matplotlib and seaborn"
   ]
  },
  {
   "cell_type": "markdown",
   "metadata": {},
   "source": [
    "## Data preparation <a class=\"anchor\" id=\"dataprep\"></a>\n",
    "\n",
    "The data preparation step involves a series of data pre-processing and transformation tasks that help us prepare the data in the format suitable to carry out the analyses."
   ]
  },
  {
   "cell_type": "markdown",
   "metadata": {},
   "source": [
    "We start off by importing the standard packages such as pandas, numpy for data preprocessing, matplotlib and seaborn for data visualization, datetime for date manipulations and chisquare from scipy.stats to test the null hypothesis"
   ]
  },
  {
   "cell_type": "code",
   "execution_count": 336,
   "metadata": {},
   "outputs": [],
   "source": [
    "import numpy as np\n",
    "import pandas as pd\n",
    "import matplotlib.pyplot as plt\n",
    "import seaborn as sns\n",
    "import datetime as dt\n",
    "from scipy.stats import chisquare\n",
    "\n",
    "%matplotlib inline"
   ]
  },
  {
   "cell_type": "markdown",
   "metadata": {},
   "source": [
    "We read the input data files in excel and csv formats using built-in pandas functions. Note that the police killings excel file has multiple sheets and we are interested only in the first sheet. The arrests excel file has additional header and footer information which are appropriately stripped off while reading the file."
   ]
  },
  {
   "cell_type": "code",
   "execution_count": 337,
   "metadata": {},
   "outputs": [],
   "source": [
    "killings = pd.read_excel(\"data/MPVDatasetDownload.xlsx\",sheet_name=\"2013-2020 Police Killings\",dtype={'Zipcode':'str'})\n",
    "\n",
    "arrests = pd.read_excel(\"data/table_43a.xls\",sheet_name=\"19tbl43a\",skiprows=6, skipfooter=4)\n",
    "\n",
    "census_est = pd.read_csv('data/sc-est2019-alldata6.csv')\n",
    "\n",
    "state_mapping = pd.read_csv('data/states_mapping.csv')"
   ]
  },
  {
   "cell_type": "markdown",
   "metadata": {},
   "source": [
    "#### Preprocessing on killings data\n",
    "\n",
    "We check the first 5 rows of the killings data to get a sense of the column names, data types and missing values, if any"
   ]
  },
  {
   "cell_type": "code",
   "execution_count": 338,
   "metadata": {},
   "outputs": [
    {
     "data": {
      "text/html": [
       "<div>\n",
       "<style scoped>\n",
       "    .dataframe tbody tr th:only-of-type {\n",
       "        vertical-align: middle;\n",
       "    }\n",
       "\n",
       "    .dataframe tbody tr th {\n",
       "        vertical-align: top;\n",
       "    }\n",
       "\n",
       "    .dataframe thead th {\n",
       "        text-align: right;\n",
       "    }\n",
       "</style>\n",
       "<table border=\"1\" class=\"dataframe\">\n",
       "  <thead>\n",
       "    <tr style=\"text-align: right;\">\n",
       "      <th></th>\n",
       "      <th>Victim's name</th>\n",
       "      <th>Victim's age</th>\n",
       "      <th>Victim's gender</th>\n",
       "      <th>Victim's race</th>\n",
       "      <th>URL of image of victim</th>\n",
       "      <th>Date of Incident (month/day/year)</th>\n",
       "      <th>Street Address of Incident</th>\n",
       "      <th>City</th>\n",
       "      <th>State</th>\n",
       "      <th>Zipcode</th>\n",
       "      <th>...</th>\n",
       "      <th>Unarmed/Did Not Have an Actual Weapon</th>\n",
       "      <th>Alleged Weapon (Source: WaPo and Review of Cases Not Included in WaPo Database)</th>\n",
       "      <th>Alleged Threat Level (Source: WaPo)</th>\n",
       "      <th>Fleeing (Source: WaPo)</th>\n",
       "      <th>Body Camera (Source: WaPo)</th>\n",
       "      <th>WaPo ID (If included in WaPo database)</th>\n",
       "      <th>Off-Duty Killing?</th>\n",
       "      <th>Geography (via Trulia methodology based on zipcode population density: http://jedkolko.com/wp-content/uploads/2015/05/full-ZCTA-urban-suburban-rural-classification.xlsx )</th>\n",
       "      <th>MPV ID</th>\n",
       "      <th>Fatal Encounters ID</th>\n",
       "    </tr>\n",
       "  </thead>\n",
       "  <tbody>\n",
       "    <tr>\n",
       "      <th>0</th>\n",
       "      <td>Pedro Martinez</td>\n",
       "      <td>66</td>\n",
       "      <td>Male</td>\n",
       "      <td>Hispanic</td>\n",
       "      <td>NaN</td>\n",
       "      <td>2020-11-18</td>\n",
       "      <td>NaN</td>\n",
       "      <td>Tyler</td>\n",
       "      <td>TX</td>\n",
       "      <td>NaN</td>\n",
       "      <td>...</td>\n",
       "      <td>Allegedly Armed</td>\n",
       "      <td>unknown weapon</td>\n",
       "      <td>other</td>\n",
       "      <td>not fleeing</td>\n",
       "      <td>no</td>\n",
       "      <td>6321.0</td>\n",
       "      <td>NaN</td>\n",
       "      <td>NaN</td>\n",
       "      <td>NaN</td>\n",
       "      <td>NaN</td>\n",
       "    </tr>\n",
       "    <tr>\n",
       "      <th>1</th>\n",
       "      <td>James Horton</td>\n",
       "      <td>42</td>\n",
       "      <td>Male</td>\n",
       "      <td>NaN</td>\n",
       "      <td>NaN</td>\n",
       "      <td>2020-11-17</td>\n",
       "      <td>NaN</td>\n",
       "      <td>Hart County</td>\n",
       "      <td>KY</td>\n",
       "      <td>NaN</td>\n",
       "      <td>...</td>\n",
       "      <td>Allegedly Armed</td>\n",
       "      <td>gun</td>\n",
       "      <td>attack</td>\n",
       "      <td>other</td>\n",
       "      <td>no</td>\n",
       "      <td>6322.0</td>\n",
       "      <td>NaN</td>\n",
       "      <td>NaN</td>\n",
       "      <td>NaN</td>\n",
       "      <td>NaN</td>\n",
       "    </tr>\n",
       "    <tr>\n",
       "      <th>2</th>\n",
       "      <td>Dustin James Acosta</td>\n",
       "      <td>28</td>\n",
       "      <td>Male</td>\n",
       "      <td>White</td>\n",
       "      <td>NaN</td>\n",
       "      <td>2020-11-17</td>\n",
       "      <td>NaN</td>\n",
       "      <td>St. Augustine</td>\n",
       "      <td>FL</td>\n",
       "      <td>NaN</td>\n",
       "      <td>...</td>\n",
       "      <td>Allegedly Armed</td>\n",
       "      <td>gun</td>\n",
       "      <td>attack</td>\n",
       "      <td>NaN</td>\n",
       "      <td>No</td>\n",
       "      <td>6320.0</td>\n",
       "      <td>NaN</td>\n",
       "      <td>NaN</td>\n",
       "      <td>NaN</td>\n",
       "      <td>NaN</td>\n",
       "    </tr>\n",
       "    <tr>\n",
       "      <th>3</th>\n",
       "      <td>Javon Brice</td>\n",
       "      <td>39</td>\n",
       "      <td>Male</td>\n",
       "      <td>NaN</td>\n",
       "      <td>NaN</td>\n",
       "      <td>2020-11-17</td>\n",
       "      <td>NaN</td>\n",
       "      <td>La Vergne</td>\n",
       "      <td>TN</td>\n",
       "      <td>NaN</td>\n",
       "      <td>...</td>\n",
       "      <td>Allegedly Armed</td>\n",
       "      <td>gun</td>\n",
       "      <td>attack</td>\n",
       "      <td>car</td>\n",
       "      <td>no</td>\n",
       "      <td>6319.0</td>\n",
       "      <td>NaN</td>\n",
       "      <td>NaN</td>\n",
       "      <td>NaN</td>\n",
       "      <td>NaN</td>\n",
       "    </tr>\n",
       "    <tr>\n",
       "      <th>4</th>\n",
       "      <td>Joshua D. Evans</td>\n",
       "      <td>32</td>\n",
       "      <td>Male</td>\n",
       "      <td>NaN</td>\n",
       "      <td>NaN</td>\n",
       "      <td>2020-11-16</td>\n",
       "      <td>NaN</td>\n",
       "      <td>Batesville</td>\n",
       "      <td>IN</td>\n",
       "      <td>NaN</td>\n",
       "      <td>...</td>\n",
       "      <td>Allegedly Armed</td>\n",
       "      <td>gun</td>\n",
       "      <td>attack</td>\n",
       "      <td>not fleeing</td>\n",
       "      <td>no</td>\n",
       "      <td>6314.0</td>\n",
       "      <td>NaN</td>\n",
       "      <td>NaN</td>\n",
       "      <td>NaN</td>\n",
       "      <td>NaN</td>\n",
       "    </tr>\n",
       "  </tbody>\n",
       "</table>\n",
       "<p>5 rows × 29 columns</p>\n",
       "</div>"
      ],
      "text/plain": [
       "         Victim's name Victim's age Victim's gender Victim's race  \\\n",
       "0       Pedro Martinez           66            Male      Hispanic   \n",
       "1         James Horton           42            Male           NaN   \n",
       "2  Dustin James Acosta           28            Male         White   \n",
       "3          Javon Brice           39            Male           NaN   \n",
       "4      Joshua D. Evans           32            Male           NaN   \n",
       "\n",
       "  URL of image of victim Date of Incident (month/day/year)  \\\n",
       "0                    NaN                        2020-11-18   \n",
       "1                    NaN                        2020-11-17   \n",
       "2                    NaN                        2020-11-17   \n",
       "3                    NaN                        2020-11-17   \n",
       "4                    NaN                        2020-11-16   \n",
       "\n",
       "  Street Address of Incident           City State Zipcode  ...  \\\n",
       "0                        NaN         Tyler     TX     NaN  ...   \n",
       "1                        NaN    Hart County    KY     NaN  ...   \n",
       "2                        NaN  St. Augustine    FL     NaN  ...   \n",
       "3                        NaN      La Vergne    TN     NaN  ...   \n",
       "4                        NaN     Batesville    IN     NaN  ...   \n",
       "\n",
       "  Unarmed/Did Not Have an Actual Weapon  \\\n",
       "0                       Allegedly Armed   \n",
       "1                       Allegedly Armed   \n",
       "2                       Allegedly Armed   \n",
       "3                       Allegedly Armed   \n",
       "4                       Allegedly Armed   \n",
       "\n",
       "  Alleged Weapon (Source: WaPo and Review of Cases Not Included in WaPo Database)  \\\n",
       "0                                     unknown weapon                                \n",
       "1                                                gun                                \n",
       "2                                                gun                                \n",
       "3                                                gun                                \n",
       "4                                                gun                                \n",
       "\n",
       "  Alleged Threat Level (Source: WaPo) Fleeing (Source: WaPo)  \\\n",
       "0                               other            not fleeing   \n",
       "1                              attack                  other   \n",
       "2                              attack                    NaN   \n",
       "3                              attack                    car   \n",
       "4                              attack            not fleeing   \n",
       "\n",
       "  Body Camera (Source: WaPo) WaPo ID (If included in WaPo database)  \\\n",
       "0                         no                                 6321.0   \n",
       "1                         no                                 6322.0   \n",
       "2                         No                                 6320.0   \n",
       "3                         no                                 6319.0   \n",
       "4                         no                                 6314.0   \n",
       "\n",
       "  Off-Duty Killing?  \\\n",
       "0               NaN   \n",
       "1               NaN   \n",
       "2               NaN   \n",
       "3               NaN   \n",
       "4               NaN   \n",
       "\n",
       "  Geography (via Trulia methodology based on zipcode population density: http://jedkolko.com/wp-content/uploads/2015/05/full-ZCTA-urban-suburban-rural-classification.xlsx )  \\\n",
       "0                                                NaN                                                                                                                           \n",
       "1                                                NaN                                                                                                                           \n",
       "2                                                NaN                                                                                                                           \n",
       "3                                                NaN                                                                                                                           \n",
       "4                                                NaN                                                                                                                           \n",
       "\n",
       "  MPV ID Fatal Encounters ID  \n",
       "0    NaN                 NaN  \n",
       "1    NaN                 NaN  \n",
       "2    NaN                 NaN  \n",
       "3    NaN                 NaN  \n",
       "4    NaN                 NaN  \n",
       "\n",
       "[5 rows x 29 columns]"
      ]
     },
     "execution_count": 338,
     "metadata": {},
     "output_type": "execute_result"
    }
   ],
   "source": [
    "killings.head()"
   ]
  },
  {
   "cell_type": "markdown",
   "metadata": {},
   "source": [
    "The below code performs a series of operations.First we strip off anything within parantheses from the column names of killings data using regex, followed by removing special characters and replacing blanks with underscores. Then we convert all the column names to lower-case. We repeat the lower-case conversion for census data and state mapping data as well."
   ]
  },
  {
   "cell_type": "code",
   "execution_count": 339,
   "metadata": {},
   "outputs": [],
   "source": [
    "killings.columns = killings.columns.str.replace(r' \\(.*\\)','').str.replace(\"'\",'').str.replace(\"?\",\"\").str.replace(\" \",\"_\")\n",
    "killings.columns = killings.columns.str.lower()\n",
    "\n",
    "census_est.columns = census_est.columns.str.lower()\n",
    "state_mapping.columns = state_mapping.columns.str.lower()\n",
    "state_mapping = state_mapping.rename({'state':'state_name','code':'state'},axis=1)"
   ]
  },
  {
   "cell_type": "markdown",
   "metadata": {},
   "source": [
    "We now proceed to fill in the missing values. For race and gender, we simply replace all blanks and unknown race with the value 'Unknown', whereas for age, we replace unknown value with nan and convert the string to a float data type to perform the appropriate computations on this column"
   ]
  },
  {
   "cell_type": "code",
   "execution_count": 340,
   "metadata": {},
   "outputs": [],
   "source": [
    "killings.victims_race = killings.victims_race.str.replace(\"unknown race\",\"Unknown\",case=False).fillna(\"Unknown\")\n",
    "killings.victims_gender = killings.victims_gender.str.replace(\"unknown\",\"Unknown\",case=False).fillna(\"Unknown\")\n",
    "killings.victims_age = pd.to_numeric(killings.victims_age.replace({\"Unknown\":np.nan}),errors=\"coerce\").astype('float')"
   ]
  },
  {
   "cell_type": "markdown",
   "metadata": {},
   "source": [
    "The killings data has no ID variable and so we create a simple count column with a constant 1 indicating that each record represents a police killing. We then perform some date manipulations to create year and month columns, and filter the data from 2013 Jan 1st to 2019 December 31st. We then merge the killings data with the state mapping data to get the corresponding state names."
   ]
  },
  {
   "cell_type": "code",
   "execution_count": 341,
   "metadata": {},
   "outputs": [],
   "source": [
    "killings[\"victims_count\"] = 1\n",
    "killings['incident_month'] = killings['date_of_incident'].dt.month\n",
    "killings['incident_year'] = killings['date_of_incident'].dt.year\n",
    "killings = killings.rename({'unarmed/did_not_have_an_actual_weapon':'armed_status'},axis=1)\n",
    "killings_f = killings[killings.incident_year <2020].reset_index(drop=True)\n",
    "killings_f = pd.merge(killings_f,state_mapping[['state','state_name']],how='left',on='state')"
   ]
  },
  {
   "cell_type": "markdown",
   "metadata": {},
   "source": [
    "#### Preprocessing on arrests data\n",
    "\n",
    "We check the first 5 rows of the arrests data to get a sense of the column names, data types and missing values, if any"
   ]
  },
  {
   "cell_type": "code",
   "execution_count": 342,
   "metadata": {},
   "outputs": [
    {
     "data": {
      "text/html": [
       "<div>\n",
       "<style scoped>\n",
       "    .dataframe tbody tr th:only-of-type {\n",
       "        vertical-align: middle;\n",
       "    }\n",
       "\n",
       "    .dataframe tbody tr th {\n",
       "        vertical-align: top;\n",
       "    }\n",
       "\n",
       "    .dataframe thead th {\n",
       "        text-align: right;\n",
       "    }\n",
       "</style>\n",
       "<table border=\"1\" class=\"dataframe\">\n",
       "  <thead>\n",
       "    <tr style=\"text-align: right;\">\n",
       "      <th></th>\n",
       "      <th>Offense charged</th>\n",
       "      <th>Total</th>\n",
       "      <th>White</th>\n",
       "      <th>Black or\\nAfrican\\nAmerican</th>\n",
       "      <th>American\\nIndian or\\nAlaska\\nNative</th>\n",
       "      <th>Asian</th>\n",
       "      <th>Native\\nHawaiian\\nor Other\\nPacific\\nIslander</th>\n",
       "      <th>Total.1</th>\n",
       "      <th>White.1</th>\n",
       "      <th>Black or\\nAfrican\\nAmerican.1</th>\n",
       "      <th>American\\nIndian or\\nAlaska\\nNative.1</th>\n",
       "      <th>Asian.1</th>\n",
       "      <th>Native\\nHawaiian\\nor Other\\nPacific\\nIslander.1</th>\n",
       "      <th>Total2</th>\n",
       "      <th>Hispanic\\nor\\nLatino</th>\n",
       "      <th>Not\\nHispanic\\nor Latino</th>\n",
       "      <th>Total.2</th>\n",
       "      <th>Hispanic\\nor\\nLatino.1</th>\n",
       "      <th>Not\\nHispanic\\nor Latino.1</th>\n",
       "    </tr>\n",
       "  </thead>\n",
       "  <tbody>\n",
       "    <tr>\n",
       "      <th>0</th>\n",
       "      <td>TOTAL</td>\n",
       "      <td>6816975</td>\n",
       "      <td>4729290</td>\n",
       "      <td>1815144</td>\n",
       "      <td>164852</td>\n",
       "      <td>86733</td>\n",
       "      <td>20956</td>\n",
       "      <td>100</td>\n",
       "      <td>69.4</td>\n",
       "      <td>26.6</td>\n",
       "      <td>2.4</td>\n",
       "      <td>1.3</td>\n",
       "      <td>0.3</td>\n",
       "      <td>5896059</td>\n",
       "      <td>1126806</td>\n",
       "      <td>4769253</td>\n",
       "      <td>100</td>\n",
       "      <td>19.1</td>\n",
       "      <td>80.9</td>\n",
       "    </tr>\n",
       "    <tr>\n",
       "      <th>1</th>\n",
       "      <td>Murder and nonnegligent manslaughter</td>\n",
       "      <td>7964</td>\n",
       "      <td>3650</td>\n",
       "      <td>4078</td>\n",
       "      <td>125</td>\n",
       "      <td>83</td>\n",
       "      <td>28</td>\n",
       "      <td>100</td>\n",
       "      <td>45.8</td>\n",
       "      <td>51.2</td>\n",
       "      <td>1.6</td>\n",
       "      <td>1.0</td>\n",
       "      <td>0.4</td>\n",
       "      <td>6474</td>\n",
       "      <td>1341</td>\n",
       "      <td>5133</td>\n",
       "      <td>100</td>\n",
       "      <td>20.7</td>\n",
       "      <td>79.3</td>\n",
       "    </tr>\n",
       "    <tr>\n",
       "      <th>2</th>\n",
       "      <td>Rape3</td>\n",
       "      <td>16599</td>\n",
       "      <td>11588</td>\n",
       "      <td>4427</td>\n",
       "      <td>249</td>\n",
       "      <td>276</td>\n",
       "      <td>59</td>\n",
       "      <td>100</td>\n",
       "      <td>69.8</td>\n",
       "      <td>26.7</td>\n",
       "      <td>1.5</td>\n",
       "      <td>1.7</td>\n",
       "      <td>0.4</td>\n",
       "      <td>14172</td>\n",
       "      <td>3948</td>\n",
       "      <td>10224</td>\n",
       "      <td>100</td>\n",
       "      <td>27.9</td>\n",
       "      <td>72.1</td>\n",
       "    </tr>\n",
       "    <tr>\n",
       "      <th>3</th>\n",
       "      <td>Robbery</td>\n",
       "      <td>56305</td>\n",
       "      <td>25143</td>\n",
       "      <td>29677</td>\n",
       "      <td>635</td>\n",
       "      <td>568</td>\n",
       "      <td>282</td>\n",
       "      <td>100</td>\n",
       "      <td>44.7</td>\n",
       "      <td>52.7</td>\n",
       "      <td>1.1</td>\n",
       "      <td>1.0</td>\n",
       "      <td>0.5</td>\n",
       "      <td>50705</td>\n",
       "      <td>12002</td>\n",
       "      <td>38703</td>\n",
       "      <td>100</td>\n",
       "      <td>23.7</td>\n",
       "      <td>76.3</td>\n",
       "    </tr>\n",
       "    <tr>\n",
       "      <th>4</th>\n",
       "      <td>Aggravated assault</td>\n",
       "      <td>274376</td>\n",
       "      <td>169467</td>\n",
       "      <td>91164</td>\n",
       "      <td>7192</td>\n",
       "      <td>4902</td>\n",
       "      <td>1651</td>\n",
       "      <td>100</td>\n",
       "      <td>61.8</td>\n",
       "      <td>33.2</td>\n",
       "      <td>2.6</td>\n",
       "      <td>1.8</td>\n",
       "      <td>0.6</td>\n",
       "      <td>243279</td>\n",
       "      <td>62421</td>\n",
       "      <td>180858</td>\n",
       "      <td>100</td>\n",
       "      <td>25.7</td>\n",
       "      <td>74.3</td>\n",
       "    </tr>\n",
       "  </tbody>\n",
       "</table>\n",
       "</div>"
      ],
      "text/plain": [
       "                        Offense charged    Total    White  \\\n",
       "0                                 TOTAL  6816975  4729290   \n",
       "1  Murder and nonnegligent manslaughter     7964     3650   \n",
       "2                                 Rape3    16599    11588   \n",
       "3                               Robbery    56305    25143   \n",
       "4                    Aggravated assault   274376   169467   \n",
       "\n",
       "   Black or\\nAfrican\\nAmerican  American\\nIndian or\\nAlaska\\nNative  Asian  \\\n",
       "0                      1815144                               164852  86733   \n",
       "1                         4078                                  125     83   \n",
       "2                         4427                                  249    276   \n",
       "3                        29677                                  635    568   \n",
       "4                        91164                                 7192   4902   \n",
       "\n",
       "   Native\\nHawaiian\\nor Other\\nPacific\\nIslander  Total.1  White.1  \\\n",
       "0                                          20956      100     69.4   \n",
       "1                                             28      100     45.8   \n",
       "2                                             59      100     69.8   \n",
       "3                                            282      100     44.7   \n",
       "4                                           1651      100     61.8   \n",
       "\n",
       "   Black or\\nAfrican\\nAmerican.1  American\\nIndian or\\nAlaska\\nNative.1  \\\n",
       "0                           26.6                                    2.4   \n",
       "1                           51.2                                    1.6   \n",
       "2                           26.7                                    1.5   \n",
       "3                           52.7                                    1.1   \n",
       "4                           33.2                                    2.6   \n",
       "\n",
       "   Asian.1  Native\\nHawaiian\\nor Other\\nPacific\\nIslander.1   Total2  \\\n",
       "0      1.3                                              0.3  5896059   \n",
       "1      1.0                                              0.4     6474   \n",
       "2      1.7                                              0.4    14172   \n",
       "3      1.0                                              0.5    50705   \n",
       "4      1.8                                              0.6   243279   \n",
       "\n",
       "   Hispanic\\nor\\nLatino  Not\\nHispanic\\nor Latino  Total.2  \\\n",
       "0               1126806                   4769253      100   \n",
       "1                  1341                      5133      100   \n",
       "2                  3948                     10224      100   \n",
       "3                 12002                     38703      100   \n",
       "4                 62421                    180858      100   \n",
       "\n",
       "   Hispanic\\nor\\nLatino.1  Not\\nHispanic\\nor Latino.1  \n",
       "0                    19.1                        80.9  \n",
       "1                    20.7                        79.3  \n",
       "2                    27.9                        72.1  \n",
       "3                    23.7                        76.3  \n",
       "4                    25.7                        74.3  "
      ]
     },
     "execution_count": 342,
     "metadata": {},
     "output_type": "execute_result"
    }
   ],
   "source": [
    "arrests.head()"
   ]
  },
  {
   "cell_type": "markdown",
   "metadata": {},
   "source": [
    "We perform the following on the arrests data:\n",
    "* Filter only the first row that has the total count and filter only the relevant columns - the counts pertaining to the five races \n",
    "* Filter the arrests count for Hispanic and Non-Hispanic seperately\n",
    "* Obtain the distribution of arrests count among the five races\n",
    "* For each race, multiply their proportion with the Non-Hispanic arrests count to get the estimated non-hispanic counts"
   ]
  },
  {
   "cell_type": "code",
   "execution_count": 343,
   "metadata": {},
   "outputs": [],
   "source": [
    "arrests_race = arrests.iloc[0:1,[2,3,4,5,6]].T.reset_index().rename(columns={'index':'race',0:'arrests_count'})\n",
    "arrests_hispanic = arrests.iloc[0:1,14:15].T.reset_index().rename(columns={'index':'race',0:'arrests_count'})\n",
    "arrests_non_hispanic = arrests.iloc[0:1,15:16].T.reset_index().rename(columns={'index':'race',0:'arrests_count'})\n",
    "arrests_race['arrests_prop'] = arrests_race.arrests_count/arrests_race.arrests_count.sum()\n",
    "arrests_race['arrests_count1'] = round(arrests_race.arrests_prop *arrests_non_hispanic.arrests_count.values).astype('int')\n",
    "arrests_race_wo_hispanic = arrests_race[['race','arrests_count1']].rename(columns={'arrests_count1':'arrests_count'})"
   ]
  },
  {
   "cell_type": "markdown",
   "metadata": {},
   "source": [
    "We then concatenate the estimated count for the 5 races along with Hispanic count, rename the race names to be consistent with the names in the killings data and get the final distribution of arrests count for the 6 races. Check the resulting data"
   ]
  },
  {
   "cell_type": "code",
   "execution_count": 344,
   "metadata": {},
   "outputs": [
    {
     "data": {
      "text/html": [
       "<div>\n",
       "<style scoped>\n",
       "    .dataframe tbody tr th:only-of-type {\n",
       "        vertical-align: middle;\n",
       "    }\n",
       "\n",
       "    .dataframe tbody tr th {\n",
       "        vertical-align: top;\n",
       "    }\n",
       "\n",
       "    .dataframe thead th {\n",
       "        text-align: right;\n",
       "    }\n",
       "</style>\n",
       "<table border=\"1\" class=\"dataframe\">\n",
       "  <thead>\n",
       "    <tr style=\"text-align: right;\">\n",
       "      <th></th>\n",
       "      <th>race</th>\n",
       "      <th>arrests_count</th>\n",
       "      <th>arrests_proportion</th>\n",
       "    </tr>\n",
       "  </thead>\n",
       "  <tbody>\n",
       "    <tr>\n",
       "      <th>0</th>\n",
       "      <td>White</td>\n",
       "      <td>3308679</td>\n",
       "      <td>0.561168</td>\n",
       "    </tr>\n",
       "    <tr>\n",
       "      <th>1</th>\n",
       "      <td>Black</td>\n",
       "      <td>1269901</td>\n",
       "      <td>0.215381</td>\n",
       "    </tr>\n",
       "    <tr>\n",
       "      <th>2</th>\n",
       "      <td>Native American</td>\n",
       "      <td>115333</td>\n",
       "      <td>0.019561</td>\n",
       "    </tr>\n",
       "    <tr>\n",
       "      <th>3</th>\n",
       "      <td>Asian</td>\n",
       "      <td>60680</td>\n",
       "      <td>0.010292</td>\n",
       "    </tr>\n",
       "    <tr>\n",
       "      <th>4</th>\n",
       "      <td>Pacific Islander</td>\n",
       "      <td>14661</td>\n",
       "      <td>0.002487</td>\n",
       "    </tr>\n",
       "    <tr>\n",
       "      <th>5</th>\n",
       "      <td>Hispanic</td>\n",
       "      <td>1126806</td>\n",
       "      <td>0.191112</td>\n",
       "    </tr>\n",
       "  </tbody>\n",
       "</table>\n",
       "</div>"
      ],
      "text/plain": [
       "               race  arrests_count  arrests_proportion\n",
       "0             White        3308679            0.561168\n",
       "1             Black        1269901            0.215381\n",
       "2   Native American         115333            0.019561\n",
       "3             Asian          60680            0.010292\n",
       "4  Pacific Islander          14661            0.002487\n",
       "5          Hispanic        1126806            0.191112"
      ]
     },
     "execution_count": 344,
     "metadata": {},
     "output_type": "execute_result"
    }
   ],
   "source": [
    "arrests_final = pd.concat([arrests_race_wo_hispanic,arrests_hispanic],ignore_index=True)\n",
    "arrests_final = arrests_final.replace({'Black or\\nAfrican\\nAmerican':'Black',\n",
    "                                           'American\\nIndian or\\nAlaska\\nNative':'Native American',\n",
    "                                           'Native\\nHawaiian\\nor Other\\nPacific\\nIslander':'Pacific Islander',\n",
    "                                           'Hispanic\\nor\\nLatino':'Hispanic'})\n",
    "arrests_final['arrests_proportion'] = arrests_final.arrests_count/sum(arrests_final.arrests_count)\n",
    "arrests_final"
   ]
  },
  {
   "cell_type": "markdown",
   "metadata": {},
   "source": [
    "#### Preprocessing on census data\n",
    "\n",
    "We check the first 5 rows of the census data to get a sense of the column names, data types and missing values, if any"
   ]
  },
  {
   "cell_type": "code",
   "execution_count": 345,
   "metadata": {},
   "outputs": [
    {
     "data": {
      "text/html": [
       "<div>\n",
       "<style scoped>\n",
       "    .dataframe tbody tr th:only-of-type {\n",
       "        vertical-align: middle;\n",
       "    }\n",
       "\n",
       "    .dataframe tbody tr th {\n",
       "        vertical-align: top;\n",
       "    }\n",
       "\n",
       "    .dataframe thead th {\n",
       "        text-align: right;\n",
       "    }\n",
       "</style>\n",
       "<table border=\"1\" class=\"dataframe\">\n",
       "  <thead>\n",
       "    <tr style=\"text-align: right;\">\n",
       "      <th></th>\n",
       "      <th>sumlev</th>\n",
       "      <th>region</th>\n",
       "      <th>division</th>\n",
       "      <th>state</th>\n",
       "      <th>name</th>\n",
       "      <th>sex</th>\n",
       "      <th>origin</th>\n",
       "      <th>race</th>\n",
       "      <th>age</th>\n",
       "      <th>census2010pop</th>\n",
       "      <th>...</th>\n",
       "      <th>popestimate2010</th>\n",
       "      <th>popestimate2011</th>\n",
       "      <th>popestimate2012</th>\n",
       "      <th>popestimate2013</th>\n",
       "      <th>popestimate2014</th>\n",
       "      <th>popestimate2015</th>\n",
       "      <th>popestimate2016</th>\n",
       "      <th>popestimate2017</th>\n",
       "      <th>popestimate2018</th>\n",
       "      <th>popestimate2019</th>\n",
       "    </tr>\n",
       "  </thead>\n",
       "  <tbody>\n",
       "    <tr>\n",
       "      <th>0</th>\n",
       "      <td>40</td>\n",
       "      <td>3</td>\n",
       "      <td>6</td>\n",
       "      <td>1</td>\n",
       "      <td>Alabama</td>\n",
       "      <td>0</td>\n",
       "      <td>0</td>\n",
       "      <td>1</td>\n",
       "      <td>0</td>\n",
       "      <td>37991</td>\n",
       "      <td>...</td>\n",
       "      <td>37818</td>\n",
       "      <td>38678</td>\n",
       "      <td>37824</td>\n",
       "      <td>36812</td>\n",
       "      <td>37575</td>\n",
       "      <td>37698</td>\n",
       "      <td>37629</td>\n",
       "      <td>37526</td>\n",
       "      <td>36370</td>\n",
       "      <td>35594</td>\n",
       "    </tr>\n",
       "    <tr>\n",
       "      <th>1</th>\n",
       "      <td>40</td>\n",
       "      <td>3</td>\n",
       "      <td>6</td>\n",
       "      <td>1</td>\n",
       "      <td>Alabama</td>\n",
       "      <td>0</td>\n",
       "      <td>0</td>\n",
       "      <td>1</td>\n",
       "      <td>1</td>\n",
       "      <td>38150</td>\n",
       "      <td>...</td>\n",
       "      <td>38036</td>\n",
       "      <td>37719</td>\n",
       "      <td>38597</td>\n",
       "      <td>37854</td>\n",
       "      <td>36968</td>\n",
       "      <td>37882</td>\n",
       "      <td>37732</td>\n",
       "      <td>37904</td>\n",
       "      <td>37641</td>\n",
       "      <td>36679</td>\n",
       "    </tr>\n",
       "    <tr>\n",
       "      <th>2</th>\n",
       "      <td>40</td>\n",
       "      <td>3</td>\n",
       "      <td>6</td>\n",
       "      <td>1</td>\n",
       "      <td>Alabama</td>\n",
       "      <td>0</td>\n",
       "      <td>0</td>\n",
       "      <td>1</td>\n",
       "      <td>2</td>\n",
       "      <td>39738</td>\n",
       "      <td>...</td>\n",
       "      <td>39570</td>\n",
       "      <td>38202</td>\n",
       "      <td>37653</td>\n",
       "      <td>38528</td>\n",
       "      <td>37769</td>\n",
       "      <td>37123</td>\n",
       "      <td>38048</td>\n",
       "      <td>37975</td>\n",
       "      <td>38172</td>\n",
       "      <td>37904</td>\n",
       "    </tr>\n",
       "    <tr>\n",
       "      <th>3</th>\n",
       "      <td>40</td>\n",
       "      <td>3</td>\n",
       "      <td>6</td>\n",
       "      <td>1</td>\n",
       "      <td>Alabama</td>\n",
       "      <td>0</td>\n",
       "      <td>0</td>\n",
       "      <td>1</td>\n",
       "      <td>3</td>\n",
       "      <td>39827</td>\n",
       "      <td>...</td>\n",
       "      <td>39805</td>\n",
       "      <td>39690</td>\n",
       "      <td>38113</td>\n",
       "      <td>37716</td>\n",
       "      <td>38605</td>\n",
       "      <td>37896</td>\n",
       "      <td>37266</td>\n",
       "      <td>38170</td>\n",
       "      <td>38197</td>\n",
       "      <td>38510</td>\n",
       "    </tr>\n",
       "    <tr>\n",
       "      <th>4</th>\n",
       "      <td>40</td>\n",
       "      <td>3</td>\n",
       "      <td>6</td>\n",
       "      <td>1</td>\n",
       "      <td>Alabama</td>\n",
       "      <td>0</td>\n",
       "      <td>0</td>\n",
       "      <td>1</td>\n",
       "      <td>4</td>\n",
       "      <td>39353</td>\n",
       "      <td>...</td>\n",
       "      <td>39493</td>\n",
       "      <td>39872</td>\n",
       "      <td>39628</td>\n",
       "      <td>38122</td>\n",
       "      <td>37751</td>\n",
       "      <td>38625</td>\n",
       "      <td>37954</td>\n",
       "      <td>37322</td>\n",
       "      <td>38312</td>\n",
       "      <td>38476</td>\n",
       "    </tr>\n",
       "  </tbody>\n",
       "</table>\n",
       "<p>5 rows × 21 columns</p>\n",
       "</div>"
      ],
      "text/plain": [
       "   sumlev  region  division  state     name  sex  origin  race  age  \\\n",
       "0      40       3         6      1  Alabama    0       0     1    0   \n",
       "1      40       3         6      1  Alabama    0       0     1    1   \n",
       "2      40       3         6      1  Alabama    0       0     1    2   \n",
       "3      40       3         6      1  Alabama    0       0     1    3   \n",
       "4      40       3         6      1  Alabama    0       0     1    4   \n",
       "\n",
       "   census2010pop  ...  popestimate2010  popestimate2011  popestimate2012  \\\n",
       "0          37991  ...            37818            38678            37824   \n",
       "1          38150  ...            38036            37719            38597   \n",
       "2          39738  ...            39570            38202            37653   \n",
       "3          39827  ...            39805            39690            38113   \n",
       "4          39353  ...            39493            39872            39628   \n",
       "\n",
       "   popestimate2013  popestimate2014  popestimate2015  popestimate2016  \\\n",
       "0            36812            37575            37698            37629   \n",
       "1            37854            36968            37882            37732   \n",
       "2            38528            37769            37123            38048   \n",
       "3            37716            38605            37896            37266   \n",
       "4            38122            37751            38625            37954   \n",
       "\n",
       "   popestimate2017  popestimate2018  popestimate2019  \n",
       "0            37526            36370            35594  \n",
       "1            37904            37641            36679  \n",
       "2            37975            38172            37904  \n",
       "3            38170            38197            38510  \n",
       "4            37322            38312            38476  \n",
       "\n",
       "[5 rows x 21 columns]"
      ]
     },
     "execution_count": 345,
     "metadata": {},
     "output_type": "execute_result"
    }
   ],
   "source": [
    "census_est.head()"
   ]
  },
  {
   "cell_type": "markdown",
   "metadata": {},
   "source": [
    "The below for loop creates a list that maps each row to a race based on the key definitions provided by the census documentation. \n",
    "\n",
    "The key for ORIGIN is as follows:\n",
    "* 0 = Total\n",
    "* 1 = Not Hispanic\n",
    "* 2 = Hispanic\n",
    "\n",
    "The key for RACE is as follows:\n",
    "* 1 = White Alone\n",
    "* 2 = Black or African American Alone\n",
    "* 3 = American Indian or Alaska Native Alone\n",
    "* 4 = Asian Alone\n",
    "* 5 = Native Hawaiian and Other Pacific Islander Alone\n",
    "* 6 = Two or more races"
   ]
  },
  {
   "cell_type": "code",
   "execution_count": 346,
   "metadata": {},
   "outputs": [],
   "source": [
    "race_name =[]\n",
    "for rows in census_est.itertuples():\n",
    "    if rows.origin ==2 and rows.race != 6:\n",
    "        racename = 'Hispanic'\n",
    "    elif rows.origin == 1 and rows.race == 1:\n",
    "        racename = 'White'\n",
    "    elif rows.origin == 1 and rows.race == 2:\n",
    "        racename = 'Black'\n",
    "    elif rows.origin == 1 and rows.race == 3:\n",
    "        racename = 'Native American'\n",
    "    elif rows.origin == 1 and rows.race == 4:\n",
    "        racename = 'Asian'\n",
    "    elif rows.origin == 1 and rows.race == 5:\n",
    "        racename = 'Pacific Islander'\n",
    "    elif rows.origin == 2 and rows.race <6:\n",
    "        racename = 'Hispanic'\n",
    "    elif rows.race == 6 and rows.origin !=0:\n",
    "        racename = 'Others'\n",
    "    else:\n",
    "        racename ='Overall'\n",
    "    race_name.append(racename)"
   ]
  },
  {
   "cell_type": "markdown",
   "metadata": {},
   "source": [
    "We create a column using the list and check the census data"
   ]
  },
  {
   "cell_type": "code",
   "execution_count": 347,
   "metadata": {},
   "outputs": [
    {
     "data": {
      "text/html": [
       "<div>\n",
       "<style scoped>\n",
       "    .dataframe tbody tr th:only-of-type {\n",
       "        vertical-align: middle;\n",
       "    }\n",
       "\n",
       "    .dataframe tbody tr th {\n",
       "        vertical-align: top;\n",
       "    }\n",
       "\n",
       "    .dataframe thead th {\n",
       "        text-align: right;\n",
       "    }\n",
       "</style>\n",
       "<table border=\"1\" class=\"dataframe\">\n",
       "  <thead>\n",
       "    <tr style=\"text-align: right;\">\n",
       "      <th></th>\n",
       "      <th>sumlev</th>\n",
       "      <th>region</th>\n",
       "      <th>division</th>\n",
       "      <th>state</th>\n",
       "      <th>name</th>\n",
       "      <th>sex</th>\n",
       "      <th>origin</th>\n",
       "      <th>race</th>\n",
       "      <th>age</th>\n",
       "      <th>census2010pop</th>\n",
       "      <th>...</th>\n",
       "      <th>popestimate2011</th>\n",
       "      <th>popestimate2012</th>\n",
       "      <th>popestimate2013</th>\n",
       "      <th>popestimate2014</th>\n",
       "      <th>popestimate2015</th>\n",
       "      <th>popestimate2016</th>\n",
       "      <th>popestimate2017</th>\n",
       "      <th>popestimate2018</th>\n",
       "      <th>popestimate2019</th>\n",
       "      <th>race_name</th>\n",
       "    </tr>\n",
       "  </thead>\n",
       "  <tbody>\n",
       "    <tr>\n",
       "      <th>0</th>\n",
       "      <td>40</td>\n",
       "      <td>3</td>\n",
       "      <td>6</td>\n",
       "      <td>1</td>\n",
       "      <td>Alabama</td>\n",
       "      <td>0</td>\n",
       "      <td>0</td>\n",
       "      <td>1</td>\n",
       "      <td>0</td>\n",
       "      <td>37991</td>\n",
       "      <td>...</td>\n",
       "      <td>38678</td>\n",
       "      <td>37824</td>\n",
       "      <td>36812</td>\n",
       "      <td>37575</td>\n",
       "      <td>37698</td>\n",
       "      <td>37629</td>\n",
       "      <td>37526</td>\n",
       "      <td>36370</td>\n",
       "      <td>35594</td>\n",
       "      <td>Overall</td>\n",
       "    </tr>\n",
       "    <tr>\n",
       "      <th>1</th>\n",
       "      <td>40</td>\n",
       "      <td>3</td>\n",
       "      <td>6</td>\n",
       "      <td>1</td>\n",
       "      <td>Alabama</td>\n",
       "      <td>0</td>\n",
       "      <td>0</td>\n",
       "      <td>1</td>\n",
       "      <td>1</td>\n",
       "      <td>38150</td>\n",
       "      <td>...</td>\n",
       "      <td>37719</td>\n",
       "      <td>38597</td>\n",
       "      <td>37854</td>\n",
       "      <td>36968</td>\n",
       "      <td>37882</td>\n",
       "      <td>37732</td>\n",
       "      <td>37904</td>\n",
       "      <td>37641</td>\n",
       "      <td>36679</td>\n",
       "      <td>Overall</td>\n",
       "    </tr>\n",
       "    <tr>\n",
       "      <th>2</th>\n",
       "      <td>40</td>\n",
       "      <td>3</td>\n",
       "      <td>6</td>\n",
       "      <td>1</td>\n",
       "      <td>Alabama</td>\n",
       "      <td>0</td>\n",
       "      <td>0</td>\n",
       "      <td>1</td>\n",
       "      <td>2</td>\n",
       "      <td>39738</td>\n",
       "      <td>...</td>\n",
       "      <td>38202</td>\n",
       "      <td>37653</td>\n",
       "      <td>38528</td>\n",
       "      <td>37769</td>\n",
       "      <td>37123</td>\n",
       "      <td>38048</td>\n",
       "      <td>37975</td>\n",
       "      <td>38172</td>\n",
       "      <td>37904</td>\n",
       "      <td>Overall</td>\n",
       "    </tr>\n",
       "    <tr>\n",
       "      <th>3</th>\n",
       "      <td>40</td>\n",
       "      <td>3</td>\n",
       "      <td>6</td>\n",
       "      <td>1</td>\n",
       "      <td>Alabama</td>\n",
       "      <td>0</td>\n",
       "      <td>0</td>\n",
       "      <td>1</td>\n",
       "      <td>3</td>\n",
       "      <td>39827</td>\n",
       "      <td>...</td>\n",
       "      <td>39690</td>\n",
       "      <td>38113</td>\n",
       "      <td>37716</td>\n",
       "      <td>38605</td>\n",
       "      <td>37896</td>\n",
       "      <td>37266</td>\n",
       "      <td>38170</td>\n",
       "      <td>38197</td>\n",
       "      <td>38510</td>\n",
       "      <td>Overall</td>\n",
       "    </tr>\n",
       "    <tr>\n",
       "      <th>4</th>\n",
       "      <td>40</td>\n",
       "      <td>3</td>\n",
       "      <td>6</td>\n",
       "      <td>1</td>\n",
       "      <td>Alabama</td>\n",
       "      <td>0</td>\n",
       "      <td>0</td>\n",
       "      <td>1</td>\n",
       "      <td>4</td>\n",
       "      <td>39353</td>\n",
       "      <td>...</td>\n",
       "      <td>39872</td>\n",
       "      <td>39628</td>\n",
       "      <td>38122</td>\n",
       "      <td>37751</td>\n",
       "      <td>38625</td>\n",
       "      <td>37954</td>\n",
       "      <td>37322</td>\n",
       "      <td>38312</td>\n",
       "      <td>38476</td>\n",
       "      <td>Overall</td>\n",
       "    </tr>\n",
       "  </tbody>\n",
       "</table>\n",
       "<p>5 rows × 22 columns</p>\n",
       "</div>"
      ],
      "text/plain": [
       "   sumlev  region  division  state     name  sex  origin  race  age  \\\n",
       "0      40       3         6      1  Alabama    0       0     1    0   \n",
       "1      40       3         6      1  Alabama    0       0     1    1   \n",
       "2      40       3         6      1  Alabama    0       0     1    2   \n",
       "3      40       3         6      1  Alabama    0       0     1    3   \n",
       "4      40       3         6      1  Alabama    0       0     1    4   \n",
       "\n",
       "   census2010pop  ...  popestimate2011  popestimate2012  popestimate2013  \\\n",
       "0          37991  ...            38678            37824            36812   \n",
       "1          38150  ...            37719            38597            37854   \n",
       "2          39738  ...            38202            37653            38528   \n",
       "3          39827  ...            39690            38113            37716   \n",
       "4          39353  ...            39872            39628            38122   \n",
       "\n",
       "   popestimate2014  popestimate2015  popestimate2016  popestimate2017  \\\n",
       "0            37575            37698            37629            37526   \n",
       "1            36968            37882            37732            37904   \n",
       "2            37769            37123            38048            37975   \n",
       "3            38605            37896            37266            38170   \n",
       "4            37751            38625            37954            37322   \n",
       "\n",
       "   popestimate2018  popestimate2019  race_name  \n",
       "0            36370            35594    Overall  \n",
       "1            37641            36679    Overall  \n",
       "2            38172            37904    Overall  \n",
       "3            38197            38510    Overall  \n",
       "4            38312            38476    Overall  \n",
       "\n",
       "[5 rows x 22 columns]"
      ]
     },
     "execution_count": 347,
     "metadata": {},
     "output_type": "execute_result"
    }
   ],
   "source": [
    "census_est['race_name'] = race_name\n",
    "census_est.head()"
   ]
  },
  {
   "cell_type": "markdown",
   "metadata": {},
   "source": [
    "We now group the population estimates at three different levels - by state, by race, and by state-race, and check the head of the grouped data"
   ]
  },
  {
   "cell_type": "code",
   "execution_count": 348,
   "metadata": {},
   "outputs": [
    {
     "data": {
      "text/html": [
       "<div>\n",
       "<style scoped>\n",
       "    .dataframe tbody tr th:only-of-type {\n",
       "        vertical-align: middle;\n",
       "    }\n",
       "\n",
       "    .dataframe tbody tr th {\n",
       "        vertical-align: top;\n",
       "    }\n",
       "\n",
       "    .dataframe thead th {\n",
       "        text-align: right;\n",
       "    }\n",
       "</style>\n",
       "<table border=\"1\" class=\"dataframe\">\n",
       "  <thead>\n",
       "    <tr style=\"text-align: right;\">\n",
       "      <th></th>\n",
       "      <th>name</th>\n",
       "      <th>race_name</th>\n",
       "      <th>popestimate2019</th>\n",
       "    </tr>\n",
       "  </thead>\n",
       "  <tbody>\n",
       "    <tr>\n",
       "      <th>0</th>\n",
       "      <td>Alabama</td>\n",
       "      <td>Asian</td>\n",
       "      <td>72046</td>\n",
       "    </tr>\n",
       "    <tr>\n",
       "      <th>1</th>\n",
       "      <td>Alabama</td>\n",
       "      <td>Black</td>\n",
       "      <td>1297775</td>\n",
       "    </tr>\n",
       "    <tr>\n",
       "      <th>2</th>\n",
       "      <td>Alabama</td>\n",
       "      <td>Hispanic</td>\n",
       "      <td>215394</td>\n",
       "    </tr>\n",
       "    <tr>\n",
       "      <th>3</th>\n",
       "      <td>Alabama</td>\n",
       "      <td>Native American</td>\n",
       "      <td>27729</td>\n",
       "    </tr>\n",
       "    <tr>\n",
       "      <th>4</th>\n",
       "      <td>Alabama</td>\n",
       "      <td>Pacific Islander</td>\n",
       "      <td>2539</td>\n",
       "    </tr>\n",
       "  </tbody>\n",
       "</table>\n",
       "</div>"
      ],
      "text/plain": [
       "      name         race_name  popestimate2019\n",
       "0  Alabama             Asian            72046\n",
       "1  Alabama             Black          1297775\n",
       "2  Alabama          Hispanic           215394\n",
       "3  Alabama   Native American            27729\n",
       "4  Alabama  Pacific Islander             2539"
      ]
     },
     "execution_count": 348,
     "metadata": {},
     "output_type": "execute_result"
    }
   ],
   "source": [
    "pop_est_by_state = census_est[(census_est.sex==0)&(census_est.origin==0)].groupby(['name'],as_index=False)['popestimate2019'].sum()\n",
    "\n",
    "pop_est_by_race = census_est[(census_est.sex==0)&(census_est.origin!=0)&(census_est.race!=6)].groupby(['race_name'],as_index=False)['popestimate2019'].sum()\n",
    "\n",
    "pop_est_by_state_race = census_est[(census_est.sex==0)&(census_est.origin!=0)&(census_est.race!=6)].groupby(['name','race_name'],as_index=False)['popestimate2019'].sum()\n",
    "\n",
    "pop_est_by_state_race.head()"
   ]
  },
  {
   "cell_type": "markdown",
   "metadata": {},
   "source": [
    "## Analysis and Findings <a class=\"anchor\" id=\"researchquestions\"></a>\n",
    "\n",
    "### 1. Are individuals in minority racial/ethnic groups likely to be killed by the police disproportionately?"
   ]
  },
  {
   "cell_type": "markdown",
   "metadata": {},
   "source": [
    "Before we dive in to answer the first research question, I would like to understand the composition of races in the police killings and how the killings have varied over the years. \n",
    "\n",
    "We begin by plotting the number of police killings from 2013 to 2019 for each race in the line chart below "
   ]
  },
  {
   "cell_type": "code",
   "execution_count": 358,
   "metadata": {},
   "outputs": [
    {
     "data": {
      "image/png": "[encoded data removed]",
      "text/plain": [
       "<Figure size 864x288 with 1 Axes>"
      ]
     },
     "metadata": {
      "needs_background": "light"
     },
     "output_type": "display_data"
    }
   ],
   "source": [
    "data = killings_f[killings_f.victims_race !=\"Unknown\"].groupby(['victims_race',\n",
    "                                                                'incident_year'],as_index=False)['victims_count'].sum()\n",
    "plt.figure(figsize=(12,4))\n",
    "ax = sns.lineplot(data = data, x = 'incident_year', y = 'victims_count', hue='victims_race',\n",
    "                  markers= ['o'] * data.victims_race.nunique(),style = 'victims_race', dashes=False,linewidth=2)\n",
    "plt.xlabel('Year',fontsize=12)\n",
    "plt.ylabel('Number of Killings',fontsize=12)\n",
    "plt.xticks(fontsize=12)\n",
    "plt.yticks(fontsize=12)\n",
    "plt.title(\"Number of police killings over the years by victim's race\",fontsize=15)\n",
    "plt.legend(bbox_to_anchor=(1, 1), loc='upper left')\n",
    "plt.savefig(\"output/q1_police_killings_by_years_and_race.png\",dpi=400,bbox_inches='tight');"
   ]
  },
  {
   "cell_type": "markdown",
   "metadata": {},
   "source": [
    "#### Observation\n",
    "In the above line chart, we could see that the number of killings across the races has more or less remained constant between 2013 and 2019 albeit some minor fluctuations. The police killings spiked in 2015 across all races and since then has been on a gradual decline for Whites,whereas it has been more or less the same for Blacks and Hispanics. This indicates that despite the efforts in the recent years, the number of fatalities have not seen an improvement"
   ]
  },
  {
   "cell_type": "markdown",
   "metadata": {},
   "source": [
    "Next, we look at the total police killings from 2013 to 2019 by races"
   ]
  },
  {
   "cell_type": "code",
   "execution_count": 362,
   "metadata": {},
   "outputs": [
    {
     "data": {
      "image/png": "[encoded data removed]",
      "text/plain": [
       "<Figure size 864x288 with 1 Axes>"
      ]
     },
     "metadata": {
      "needs_background": "light"
     },
     "output_type": "display_data"
    }
   ],
   "source": [
    "race_count = killings_f[killings_f.victims_race !=\"Unknown\"].victims_race.value_counts()\n",
    "plt.figure(figsize=(12,4))\n",
    "plt.bar(x=race_count.index,height=race_count.values,width=0.3)\n",
    "plt.xlabel('Race of the victim',fontsize=12)\n",
    "plt.ylabel('Number of killings',fontsize=12)\n",
    "plt.xticks(fontsize=12)\n",
    "plt.yticks(fontsize=12)\n",
    "plt.title(\"Total police killings by victims' race (2013-2019)\",fontsize=15);\n",
    "\n",
    "for x,y in zip(race_count.index,race_count.values):\n",
    "\n",
    "    label = \"{:d}\".format(y)\n",
    "    plt.annotate(label,(x,y), textcoords=\"offset points\", xytext=(0,3), ha='center',fontsize=12)\n",
    "\n",
    "plt.savefig(\"output/q1_police_killings_by_race.png\",dpi=400)\n",
    "plt.show();"
   ]
  },
  {
   "cell_type": "markdown",
   "metadata": {},
   "source": [
    "#### Observation\n",
    "\n",
    "49% of all victims were White, followed by Blacks/African Americans (28%) and Hispanics(~19%). The victims from these three races are much higher than the other races, also reflective of the fact they are the three largest racial/ethnic groups in the US."
   ]
  },
  {
   "cell_type": "markdown",
   "metadata": {},
   "source": [
    "The below code does the following to prepare the data for chi square test:\n",
    "* We group the number of police killings by race\n",
    "* We merge the arrests estimates with the police killings on race\n",
    "* We calculate the arrests proportion for each race\n",
    "* We multiply the total victim count by the arrests proportion for each race to get the expected dsitribution\n",
    "* We calculate the ratio of actual to expected for each race, and check the final table"
   ]
  },
  {
   "cell_type": "code",
   "execution_count": 361,
   "metadata": {},
   "outputs": [
    {
     "data": {
      "text/html": [
       "<div>\n",
       "<style scoped>\n",
       "    .dataframe tbody tr th:only-of-type {\n",
       "        vertical-align: middle;\n",
       "    }\n",
       "\n",
       "    .dataframe tbody tr th {\n",
       "        vertical-align: top;\n",
       "    }\n",
       "\n",
       "    .dataframe thead th {\n",
       "        text-align: right;\n",
       "    }\n",
       "</style>\n",
       "<table border=\"1\" class=\"dataframe\">\n",
       "  <thead>\n",
       "    <tr style=\"text-align: right;\">\n",
       "      <th></th>\n",
       "      <th>race</th>\n",
       "      <th>arrests_count</th>\n",
       "      <th>arrests_proportion</th>\n",
       "      <th>victims_race</th>\n",
       "      <th>victims_count</th>\n",
       "      <th>killings_proportion</th>\n",
       "      <th>expected_count</th>\n",
       "      <th>actual/expected</th>\n",
       "    </tr>\n",
       "  </thead>\n",
       "  <tbody>\n",
       "    <tr>\n",
       "      <th>0</th>\n",
       "      <td>White</td>\n",
       "      <td>3308679</td>\n",
       "      <td>0.561168</td>\n",
       "      <td>White</td>\n",
       "      <td>3422</td>\n",
       "      <td>0.488857</td>\n",
       "      <td>3928</td>\n",
       "      <td>0.871181</td>\n",
       "    </tr>\n",
       "    <tr>\n",
       "      <th>1</th>\n",
       "      <td>Black</td>\n",
       "      <td>1269901</td>\n",
       "      <td>0.215381</td>\n",
       "      <td>Black</td>\n",
       "      <td>1960</td>\n",
       "      <td>0.280000</td>\n",
       "      <td>1508</td>\n",
       "      <td>1.299735</td>\n",
       "    </tr>\n",
       "    <tr>\n",
       "      <th>2</th>\n",
       "      <td>Native American</td>\n",
       "      <td>115333</td>\n",
       "      <td>0.019561</td>\n",
       "      <td>Native American</td>\n",
       "      <td>111</td>\n",
       "      <td>0.015857</td>\n",
       "      <td>137</td>\n",
       "      <td>0.810219</td>\n",
       "    </tr>\n",
       "    <tr>\n",
       "      <th>3</th>\n",
       "      <td>Asian</td>\n",
       "      <td>60680</td>\n",
       "      <td>0.010292</td>\n",
       "      <td>Asian</td>\n",
       "      <td>120</td>\n",
       "      <td>0.017143</td>\n",
       "      <td>72</td>\n",
       "      <td>1.666667</td>\n",
       "    </tr>\n",
       "    <tr>\n",
       "      <th>4</th>\n",
       "      <td>Pacific Islander</td>\n",
       "      <td>14661</td>\n",
       "      <td>0.002487</td>\n",
       "      <td>Pacific Islander</td>\n",
       "      <td>42</td>\n",
       "      <td>0.006000</td>\n",
       "      <td>17</td>\n",
       "      <td>2.470588</td>\n",
       "    </tr>\n",
       "    <tr>\n",
       "      <th>5</th>\n",
       "      <td>Hispanic</td>\n",
       "      <td>1126806</td>\n",
       "      <td>0.191112</td>\n",
       "      <td>Hispanic</td>\n",
       "      <td>1345</td>\n",
       "      <td>0.192143</td>\n",
       "      <td>1338</td>\n",
       "      <td>1.005232</td>\n",
       "    </tr>\n",
       "  </tbody>\n",
       "</table>\n",
       "</div>"
      ],
      "text/plain": [
       "               race  arrests_count  arrests_proportion      victims_race  \\\n",
       "0             White        3308679            0.561168             White   \n",
       "1             Black        1269901            0.215381             Black   \n",
       "2   Native American         115333            0.019561   Native American   \n",
       "3             Asian          60680            0.010292             Asian   \n",
       "4  Pacific Islander          14661            0.002487  Pacific Islander   \n",
       "5          Hispanic        1126806            0.191112          Hispanic   \n",
       "\n",
       "   victims_count  killings_proportion  expected_count  actual/expected  \n",
       "0           3422             0.488857            3928         0.871181  \n",
       "1           1960             0.280000            1508         1.299735  \n",
       "2            111             0.015857             137         0.810219  \n",
       "3            120             0.017143              72         1.666667  \n",
       "4             42             0.006000              17         2.470588  \n",
       "5           1345             0.192143            1338         1.005232  "
      ]
     },
     "execution_count": 361,
     "metadata": {},
     "output_type": "execute_result"
    }
   ],
   "source": [
    "killings_by_race = killings_f.groupby(['victims_race'],as_index=False)['victims_count'].sum()\n",
    "killings_by_race_arrests = arrests_final.merge(killings_by_race,how=\"inner\",left_on=\"race\",right_on=\"victims_race\")\n",
    "killings_by_race_arrests = killings_by_race_arrests.rename({'id':'victims_count'},axis=1)\n",
    "victims = killings_by_race_arrests.victims_count.sum()\n",
    "killings_by_race_arrests['killings_proportion'] = killings_by_race_arrests.victims_count/victims\n",
    "killings_by_race_arrests['expected_count'] = round(victims*killings_by_race_arrests.arrests_proportion).astype('int')\n",
    "killings_by_race_arrests['actual/expected'] = killings_by_race_arrests.victims_count/killings_by_race_arrests.expected_count\n",
    "killings_by_race_arrests"
   ]
  },
  {
   "cell_type": "markdown",
   "metadata": {},
   "source": [
    "We export the final summary table as csv"
   ]
  },
  {
   "cell_type": "code",
   "execution_count": 365,
   "metadata": {},
   "outputs": [],
   "source": [
    "killings_by_race_arrests.to_csv(\"output/q1_arrests_vs_killings_final.csv\",index=False)"
   ]
  },
  {
   "cell_type": "markdown",
   "metadata": {},
   "source": [
    "We now plot the proportion of killings vs. proportion of arrests for each race to see if the proportions are consistent across the races"
   ]
  },
  {
   "cell_type": "code",
   "execution_count": 363,
   "metadata": {},
   "outputs": [
    {
     "data": {
      "image/png": "[encoded data removed]",
      "text/plain": [
       "<Figure size 864x360 with 1 Axes>"
      ]
     },
     "metadata": {
      "needs_background": "light"
     },
     "output_type": "display_data"
    }
   ],
   "source": [
    "data = killings_by_race_arrests.sort_values('arrests_proportion',ascending=False)\n",
    "labels, arrests_pct, victims_pct  = list(data.race), list(100*data.arrests_proportion), list(100*data.killings_proportion)\n",
    "\n",
    "x = np.arange(len(labels))  # the label locations\n",
    "\n",
    "fig, ax = plt.subplots(figsize=(12,5))\n",
    "rects1 = ax.bar(x - width/2, arrests_pct, width=0.3, label='Arrests %')\n",
    "rects2 = ax.bar(x + width/2, victims_pct, width=0.3, label='Killings %')\n",
    "\n",
    "# Add some text for labels, title and custom x-axis tick labels, etc.\n",
    "ax.set_ylabel('% of total',fontsize=12)\n",
    "ax.set_xlabel('Race',fontsize=12)\n",
    "ax.set_title('Proportion of arrests vs killings across races',fontsize=15)\n",
    "ax.set_xticks(x)\n",
    "ax.set_xticklabels(labels,fontsize=12)\n",
    "ax.legend(fontsize=12)\n",
    "\n",
    "def autolabel(rects):\n",
    "    \"\"\"Attach a text label above each bar in *rects*, displaying its height.\"\"\"\n",
    "    for rect in rects:\n",
    "        height = rect.get_height()\n",
    "        ax.annotate('{:.1f}%'.format(height),xy=(rect.get_x() + rect.get_width() / 2, height),\n",
    "                    xytext=(0, 3),  textcoords=\"offset points\",ha='center', va='bottom',fontsize=12)\n",
    "autolabel(rects1),autolabel(rects2)\n",
    "fig.tight_layout()\n",
    "plt.savefig(\"output/q1_killings_vs_arrests_prop_by_race.png\",dpi=400)\n",
    "plt.show();"
   ]
  },
  {
   "cell_type": "markdown",
   "metadata": {},
   "source": [
    "#### Observation\n",
    "\n",
    "We could observe that the proportion of killings is higher for Blacks, Asians and Pacific Islanders compared to the proportion of arrests, whereas for Whites, the proportion of killings is lower than that of arrests. This could indicate a potential racial disparity in the killings."
   ]
  },
  {
   "cell_type": "markdown",
   "metadata": {},
   "source": [
    "#### Hypothesis testing"
   ]
  },
  {
   "cell_type": "markdown",
   "metadata": {},
   "source": [
    "In order to test the statistical significance of the differences, let us perform a chi-squared test to test the following null hypothesis:  \n",
    "   *Rate of police killings across the races are consistent with the rate of crime arrests across the races*  \n",
    "The test compares the actual victim counts vs expected victim counts for each race"
   ]
  },
  {
   "cell_type": "code",
   "execution_count": 86,
   "metadata": {},
   "outputs": [
    {
     "data": {
      "text/plain": [
       "Power_divergenceResult(statistic=274.39802143517227, pvalue=3.179482442590367e-57)"
      ]
     },
     "execution_count": 86,
     "metadata": {},
     "output_type": "execute_result"
    }
   ],
   "source": [
    "chisquare(killings_by_race_arrests.victims_count,killings_by_race_arrests.expected_count)"
   ]
  },
  {
   "cell_type": "markdown",
   "metadata": {},
   "source": [
    "The p-value is significant with a very high chi squared value providing an evidence against the null hypothesis. We therefore **reject** the null hypothesis. This indicates that the minority individuals are killed disproportionately by the police and racial disparity is indeed evident."
   ]
  },
  {
   "cell_type": "markdown",
   "metadata": {},
   "source": [
    "The below plot looks at the actual vs. expected killings ratio for each race"
   ]
  },
  {
   "cell_type": "code",
   "execution_count": 364,
   "metadata": {},
   "outputs": [
    {
     "data": {
      "image/png": "[encoded data removed]",
      "text/plain": [
       "<Figure size 864x288 with 1 Axes>"
      ]
     },
     "metadata": {
      "needs_background": "light"
     },
     "output_type": "display_data"
    }
   ],
   "source": [
    "data = killings_by_race_arrests.sort_values('actual/expected',ascending=False)\n",
    "plt.figure(figsize=(12,4))\n",
    "plt.bar(x=data.race,height=data['actual/expected'],width=0.4)\n",
    "plt.xlabel('Race',fontsize=12)\n",
    "plt.ylabel('Ratio of actual to expected victim counts',fontsize=12)\n",
    "plt.xticks(fontsize=12)\n",
    "plt.yticks(fontsize=12)\n",
    "plt.axhline(1, color='darkred', linestyle='dashed',linewidth=2, label= f'Expected ratio: {1}')\n",
    "plt.title('Ratio of actual victim count to expected count based on arrests proportion by race',fontsize=15);\n",
    "\n",
    "for x,y in zip(data.race,data['actual/expected']):\n",
    "\n",
    "    label = \"{:.1f}\".format(y)\n",
    "    plt.annotate(label,(x,y), textcoords=\"offset points\", xytext=(0,5), ha='center',fontsize=12)\n",
    "\n",
    "plt.legend()\n",
    "plt.savefig(\"output/q1_actual_vs_expected_ratio.png\",dpi=400);"
   ]
  },
  {
   "cell_type": "markdown",
   "metadata": {},
   "source": [
    "We observe that Pacific Islanders are killed at a rate 2.5 times higher than expected followed by Asians and Blacks at 1.7 times and 1.3 times respectively."
   ]
  },
  {
   "cell_type": "markdown",
   "metadata": {},
   "source": [
    "### 2. Are individuals in minority racial/ethnic groups likely to be killed by the police disproportionately when unarmed during an encounter?\n",
    "\n",
    "To answer this question, we start off by looking at the composition of trends of police killings involving victims of varied threat level namely Armed, Unarmed, Vehicle or unclear"
   ]
  },
  {
   "cell_type": "markdown",
   "metadata": {},
   "source": [
    "The below line plot looks at the trend of police killings for different armed status of the victims over the years"
   ]
  },
  {
   "cell_type": "code",
   "execution_count": 366,
   "metadata": {},
   "outputs": [
    {
     "data": {
      "image/png": "[encoded data removed]",
      "text/plain": [
       "<Figure size 864x288 with 1 Axes>"
      ]
     },
     "metadata": {
      "needs_background": "light"
     },
     "output_type": "display_data"
    }
   ],
   "source": [
    "data=killings_f.groupby(['armed_status','incident_year'],as_index=False)['victims_count'].sum()\n",
    "plt.figure(figsize=(12,4))\n",
    "sns.lineplot(data = data, x = 'incident_year', y = 'victims_count', hue='armed_status',\n",
    "            markers= ['o'] * data.armed_status.nunique(),style = 'armed_status', dashes=False,linewidth=2)\n",
    "plt.xlabel('Year',fontsize=12)\n",
    "plt.ylabel('Number of Killings',fontsize=12)\n",
    "plt.xticks(fontsize=12)\n",
    "plt.yticks(fontsize=12)\n",
    "plt.title(\"Number of police killings over the years by victims' armed status\",fontsize=15)\n",
    "plt.savefig(\"output/q2_police_killings_by_years_and_armed_status.png\",dpi=400);"
   ]
  },
  {
   "cell_type": "markdown",
   "metadata": {},
   "source": [
    "#### Observation\n",
    "\n",
    "We could observe that between 2013 and 2019, police killings involving armed victims has witnessed a rise while unarmed killings have gone down.After an initial spike in 2015, number of killings involving unarmed victims has seen a steady decline. This could indicate that efforts have been taken by the police in the recent years to mitigate unintended consequences during an encounter if the victim does not pose any threat."
   ]
  },
  {
   "cell_type": "markdown",
   "metadata": {},
   "source": [
    "The below plot looks at the total number of police killings by armed status of the victims between 2013 and 2019."
   ]
  },
  {
   "cell_type": "code",
   "execution_count": 367,
   "metadata": {},
   "outputs": [
    {
     "data": {
      "image/png": "[encoded data removed]",
      "text/plain": [
       "<Figure size 864x288 with 1 Axes>"
      ]
     },
     "metadata": {
      "needs_background": "light"
     },
     "output_type": "display_data"
    }
   ],
   "source": [
    "armed_status_count = killings_f['armed_status'].value_counts()\n",
    "plt.figure(figsize=(12,4))\n",
    "plt.bar(x=armed_status_count.index,height=armed_status_count.values,width=0.3)\n",
    "plt.xlabel('Armed status',fontsize=12)\n",
    "plt.ylabel('Number of killings',fontsize=12)\n",
    "plt.xticks(fontsize=12)\n",
    "plt.yticks(fontsize=12)\n",
    "plt.title(\"Total police killings by victims' armed status (2013-2019)\",fontsize=15);\n",
    "\n",
    "for x,y in zip(armed_status_count.index,armed_status_count.values):\n",
    "\n",
    "    label = \"{:d}\".format(y)\n",
    "    plt.annotate(label,(x,y), textcoords=\"offset points\", xytext=(0,3), ha='center',fontsize=12)\n",
    "\n",
    "plt.savefig(\"output/q2_police_killings_by_armed_status.png\",dpi=400)\n",
    "plt.show();"
   ]
  },
  {
   "cell_type": "markdown",
   "metadata": {},
   "source": [
    "#### Observation\n",
    "\n",
    "~71% of all police killings between 2013 and 2019 involved armed victims, while ~14% involved unarmed or did not have an actual weapon"
   ]
  },
  {
   "cell_type": "markdown",
   "metadata": {},
   "source": [
    "We perform the following in the below code\n",
    "* We pivot the table based on the armed status attribute and remove any killings where the race is Unknown and rename the armed status values\n",
    "* We sum up Armed and Unarmed values to calculate the total killings and calculate the proportion for each race\n",
    "* We mulitply the total unarmed killings count with the proportion pertaining to each race\n",
    "* Since the value of Pacific Islanders is less than 5, it does not satisfy the chi-square criteria. So we group Pacific Islanders and Native Americans as 'Others' given the small counts for both these races\n",
    "* We calculate the unarmed victims percentage for each race and get the ratio of actual to expected killings"
   ]
  },
  {
   "cell_type": "code",
   "execution_count": 368,
   "metadata": {},
   "outputs": [
    {
     "data": {
      "text/html": [
       "<div>\n",
       "<style scoped>\n",
       "    .dataframe tbody tr th:only-of-type {\n",
       "        vertical-align: middle;\n",
       "    }\n",
       "\n",
       "    .dataframe tbody tr th {\n",
       "        vertical-align: top;\n",
       "    }\n",
       "\n",
       "    .dataframe thead th {\n",
       "        text-align: right;\n",
       "    }\n",
       "</style>\n",
       "<table border=\"1\" class=\"dataframe\">\n",
       "  <thead>\n",
       "    <tr style=\"text-align: right;\">\n",
       "      <th>armed_status</th>\n",
       "      <th>race</th>\n",
       "      <th>armed</th>\n",
       "      <th>unarmed</th>\n",
       "      <th>total</th>\n",
       "      <th>proportion</th>\n",
       "      <th>unarmed_expected</th>\n",
       "      <th>unarmed_victims_ratio</th>\n",
       "      <th>actual/expected</th>\n",
       "    </tr>\n",
       "  </thead>\n",
       "  <tbody>\n",
       "    <tr>\n",
       "      <th>0</th>\n",
       "      <td>Asian</td>\n",
       "      <td>95</td>\n",
       "      <td>12</td>\n",
       "      <td>107</td>\n",
       "      <td>0.017986</td>\n",
       "      <td>18</td>\n",
       "      <td>11.214953</td>\n",
       "      <td>0.666667</td>\n",
       "    </tr>\n",
       "    <tr>\n",
       "      <th>1</th>\n",
       "      <td>Black</td>\n",
       "      <td>1320</td>\n",
       "      <td>337</td>\n",
       "      <td>1657</td>\n",
       "      <td>0.278534</td>\n",
       "      <td>285</td>\n",
       "      <td>20.337960</td>\n",
       "      <td>1.182456</td>\n",
       "    </tr>\n",
       "    <tr>\n",
       "      <th>2</th>\n",
       "      <td>Hispanic</td>\n",
       "      <td>911</td>\n",
       "      <td>203</td>\n",
       "      <td>1114</td>\n",
       "      <td>0.187258</td>\n",
       "      <td>191</td>\n",
       "      <td>18.222621</td>\n",
       "      <td>1.062827</td>\n",
       "    </tr>\n",
       "    <tr>\n",
       "      <th>3</th>\n",
       "      <td>Others</td>\n",
       "      <td>105</td>\n",
       "      <td>14</td>\n",
       "      <td>119</td>\n",
       "      <td>0.020003</td>\n",
       "      <td>21</td>\n",
       "      <td>11.764706</td>\n",
       "      <td>0.666667</td>\n",
       "    </tr>\n",
       "    <tr>\n",
       "      <th>4</th>\n",
       "      <td>White</td>\n",
       "      <td>2496</td>\n",
       "      <td>456</td>\n",
       "      <td>2952</td>\n",
       "      <td>0.496218</td>\n",
       "      <td>507</td>\n",
       "      <td>15.447154</td>\n",
       "      <td>0.899408</td>\n",
       "    </tr>\n",
       "  </tbody>\n",
       "</table>\n",
       "</div>"
      ],
      "text/plain": [
       "armed_status      race  armed  unarmed  total  proportion  unarmed_expected  \\\n",
       "0                Asian     95       12    107    0.017986                18   \n",
       "1                Black   1320      337   1657    0.278534               285   \n",
       "2             Hispanic    911      203   1114    0.187258               191   \n",
       "3               Others    105       14    119    0.020003                21   \n",
       "4                White   2496      456   2952    0.496218               507   \n",
       "\n",
       "armed_status  unarmed_victims_ratio  actual/expected  \n",
       "0                         11.214953         0.666667  \n",
       "1                         20.337960         1.182456  \n",
       "2                         18.222621         1.062827  \n",
       "3                         11.764706         0.666667  \n",
       "4                         15.447154         0.899408  "
      ]
     },
     "execution_count": 368,
     "metadata": {},
     "output_type": "execute_result"
    }
   ],
   "source": [
    "killings_armed_status_pvt =killings_f.pivot_table(index=['victims_race'],columns=['armed_status'],\n",
    "                                                  values='victims_count',aggfunc='sum').reset_index()\n",
    "killings_armed_status_pvt = killings_armed_status_pvt[~killings_armed_status_pvt.victims_race.isin(['Unknown'])]\n",
    "killings_armed_status_pvt = killings_armed_status_pvt.rename({'Unarmed/Did Not Have an Actual Weapon':'unarmed',\n",
    "                                                             'Allegedly Armed':'armed'},axis=1)\n",
    "killings_armed_status_pvt = killings_armed_status_pvt[['victims_race','armed','unarmed']]\n",
    "killings_armed_status_pvt['total'] = killings_armed_status_pvt['armed'] + killings_armed_status_pvt['unarmed']\n",
    "\n",
    "killings_armed_status_pvt['proportion'] = killings_armed_status_pvt.total/sum(killings_armed_status_pvt.total)\n",
    "\n",
    "unarmed_total = sum(killings_armed_status_pvt.unarmed)\n",
    "\n",
    "killings_armed_status_pvt['unarmed_expected']= round(killings_armed_status_pvt['proportion'] * unarmed_total).astype('int')\n",
    "\n",
    "killings_armed_status_pvt['race']= np.where(killings_armed_status_pvt.victims_race =='Native American','Others',\n",
    "                                             np.where(killings_armed_status_pvt.victims_race=='Pacific Islander','Others',\n",
    "                                             killings_armed_status_pvt.victims_race))\n",
    "killings_armed_unarmed_final = killings_armed_status_pvt.groupby(['race'],as_index=False).sum()\n",
    "killings_armed_unarmed_final['unarmed_victims_ratio'] = 100*(killings_armed_unarmed_final.unarmed/killings_armed_unarmed_final.total)\n",
    "killings_armed_unarmed_final['actual/expected'] = killings_armed_unarmed_final.unarmed/killings_armed_unarmed_final.unarmed_expected\n",
    "killings_armed_unarmed_final"
   ]
  },
  {
   "cell_type": "markdown",
   "metadata": {},
   "source": [
    "We export the final summary table"
   ]
  },
  {
   "cell_type": "code",
   "execution_count": 370,
   "metadata": {},
   "outputs": [],
   "source": [
    "killings_armed_unarmed_final.to_csv('output/q2_final.csv',index=False)"
   ]
  },
  {
   "cell_type": "markdown",
   "metadata": {},
   "source": [
    "Below, we plot the percentage of victims by race that were unarmed during police encounters between 2013 and 2019"
   ]
  },
  {
   "cell_type": "code",
   "execution_count": 371,
   "metadata": {},
   "outputs": [
    {
     "data": {
      "image/png": "[encoded data removed]",
      "text/plain": [
       "<Figure size 864x288 with 1 Axes>"
      ]
     },
     "metadata": {
      "needs_background": "light"
     },
     "output_type": "display_data"
    }
   ],
   "source": [
    "data = killings_armed_unarmed_final.sort_values('unarmed_victims_ratio',ascending=False)\n",
    "plt.figure(figsize=(12,4))\n",
    "plt.bar(x=data.race,height=data.unarmed_victims_ratio,width=0.4)\n",
    "plt.xlabel('Race',fontsize=12)\n",
    "plt.ylabel('% of victims unarmed',fontsize=12)\n",
    "plt.xticks(fontsize=12)\n",
    "plt.yticks(fontsize=12)\n",
    "plt.title('% of victims by race that were unarmed during police encounters (2013-2019)',fontsize=15);\n",
    "\n",
    "for x,y in zip(data.race,data.unarmed_victims_ratio):\n",
    "\n",
    "    label = \"{:.1f}%\".format(y)\n",
    "    plt.annotate(label,(x,y), textcoords=\"offset points\", xytext=(0,1), ha='center',fontsize=12)\n",
    "plt.savefig(\"output/q2_unarmed_pct_killings_by_race.png\",dpi=400)   \n",
    "plt.show();"
   ]
  },
  {
   "cell_type": "markdown",
   "metadata": {},
   "source": [
    "#### Observation\n",
    "\n",
    "We could see that Blacks and Hispanics have the highest % of unarmed victims at 20.3% and 18.2% respectively. In other words, we could say that every 1 in 5 Blacks killed by the police was unarmed. This could indicate a potential bias by the police officers that they consider a black individual a threat even when the person is not carrying a weapon  "
   ]
  },
  {
   "cell_type": "markdown",
   "metadata": {},
   "source": [
    "#### Hypothesis testing"
   ]
  },
  {
   "cell_type": "markdown",
   "metadata": {},
   "source": [
    "In order to test the statistical significance of the differences, let us perform a chi-squared test to test the following null hypothesis:  \n",
    "   *Rate of police killings involving unarmed victims across races are consistent with the rate of overall police killings across the races*  \n",
    "The test compares the actual unarmed victim counts vs expected unarmed victim counts for each race"
   ]
  },
  {
   "cell_type": "code",
   "execution_count": 93,
   "metadata": {},
   "outputs": [
    {
     "data": {
      "text/plain": [
       "Power_divergenceResult(statistic=19.705156847942526, pvalue=0.0005709689492094908)"
      ]
     },
     "execution_count": 93,
     "metadata": {},
     "output_type": "execute_result"
    }
   ],
   "source": [
    "chisquare(killings_armed_unarmed_final.unarmed,killings_armed_unarmed_final.unarmed_expected)"
   ]
  },
  {
   "cell_type": "markdown",
   "metadata": {},
   "source": [
    "The p-value is significant indicating an evidence against the null hypothesis. We can therefore say that individuals in minority groups are disproportionately killed by the police despite being unarmed"
   ]
  },
  {
   "cell_type": "markdown",
   "metadata": {},
   "source": [
    "We now plot the ratio of actual to expected unarmed killings for each race"
   ]
  },
  {
   "cell_type": "code",
   "execution_count": 372,
   "metadata": {},
   "outputs": [
    {
     "data": {
      "image/png": "[encoded data removed]",
      "text/plain": [
       "<Figure size 864x288 with 1 Axes>"
      ]
     },
     "metadata": {
      "needs_background": "light"
     },
     "output_type": "display_data"
    }
   ],
   "source": [
    "data = killings_armed_unarmed_final.sort_values('actual/expected',ascending=False)\n",
    "plt.figure(figsize=(12,4))\n",
    "plt.bar(x=data.race,height=data['actual/expected'],width=0.4)\n",
    "plt.xlabel('Race',fontsize=12)\n",
    "plt.ylabel('Ratio of actual to expected',fontsize=12)\n",
    "plt.xticks(fontsize=12)\n",
    "plt.yticks(fontsize=12)\n",
    "plt.axhline(1, color='darkred', linestyle='dashed',linewidth=2, label= f'Expected ratio: {1}')\n",
    "plt.title('Ratio of actual to expected unarmed victim counts by race',fontsize=15);\n",
    "\n",
    "for x,y in zip(data.race,data['actual/expected']):\n",
    "\n",
    "    label = \"{:.1f}\".format(y)\n",
    "    plt.annotate(label,(x,y), textcoords=\"offset points\", xytext=(0,1), ha='center',fontsize=12)\n",
    "plt.savefig(\"output/q2_actual_vs_expected_ratio.png\",dpi=400)    \n",
    "plt.legend();"
   ]
  },
  {
   "cell_type": "markdown",
   "metadata": {},
   "source": [
    "### 3. Are individuals in minority racial/ethnic groups disproportionately killed by the police across the states?\n",
    "\n",
    "In order to answer this question, we calculate a per capita metric that looks at the victim rate per million per year for each state and race. We then compare this metric across the states and races for any evidence of racial disparity"
   ]
  },
  {
   "cell_type": "markdown",
   "metadata": {},
   "source": [
    "In the below code, we perform the following:\n",
    "\n",
    "* We aggregate the killings data at a state level and state-race level\n",
    "* We merge the killings state data and population estimates data at a state level and calculate the per capita metric. \n",
    "* Similarly, we merge the killings state-race data and population estimates at a state-race level and calculate the per capita metric"
   ]
  },
  {
   "cell_type": "code",
   "execution_count": 373,
   "metadata": {},
   "outputs": [],
   "source": [
    "killings_by_state = killings_f.groupby(['state_name'],as_index=False)['victims_count'].sum()\n",
    "killings_by_state_race = killings_f.groupby(['state_name','victims_race'],as_index=False)['victims_count'].sum()\n",
    "\n",
    "summary_by_state = pop_est_by_state.merge(killings_by_state, how='inner',left_on='name',right_on='state_name')\n",
    "summary_by_state['killings_per_mil_per_yr'] = (summary_by_state.victims_count/summary_by_state.popestimate2019)*(1000000/7)\n",
    "\n",
    "summary_by_state_race = pop_est_by_state_race.merge(killings_by_state_race, how='inner',left_on=['name','race_name'],\n",
    "                                                    right_on=['state_name','victims_race'])\n",
    "summary_by_state_race['killings_per_mil_per_yr'] = (summary_by_state_race.victims_count/summary_by_state_race.popestimate2019)*(1000000/7)"
   ]
  },
  {
   "cell_type": "markdown",
   "metadata": {},
   "source": [
    "We now plot the mean victim rate per million per year for each race and also compare them with the nation average"
   ]
  },
  {
   "cell_type": "code",
   "execution_count": 379,
   "metadata": {},
   "outputs": [
    {
     "data": {
      "image/png": "[encoded data removed]",
      "text/plain": [
       "<Figure size 864x360 with 1 Axes>"
      ]
     },
     "metadata": {
      "needs_background": "light"
     },
     "output_type": "display_data"
    }
   ],
   "source": [
    "data = summary_by_state_race.groupby('race_name',as_index=False)['killings_per_mil_per_yr'].mean()\n",
    "data = data.sort_values('killings_per_mil_per_yr',ascending=False)\n",
    "state = (1000000/7)*np.mean(summary_by_state.victims_count/summary_by_state.popestimate2019)\n",
    "plt.figure(figsize=(12,5))\n",
    "plt.bar(x=data.race_name,height=data['killings_per_mil_per_yr'],width=0.4)\n",
    "plt.xlabel('Race',fontsize=12)\n",
    "plt.ylabel('Mean victim rate per million per year',fontsize=12)\n",
    "plt.xticks(fontsize=12)\n",
    "plt.yticks(fontsize=12)\n",
    "plt.axhline(state, color='darkred', linestyle='dashed',linewidth=2, label= f'Mean rate: {round(state,1)}')\n",
    "plt.title('Mean state victim rate per million per year by race',fontsize=15);\n",
    "\n",
    "for x,y in zip(data.race_name,data['killings_per_mil_per_yr']):\n",
    "\n",
    "    label = \"{:.1f}\".format(y)\n",
    "    plt.annotate(label,(x,y), textcoords=\"offset points\", xytext=(0,5), ha='center',fontsize=12)\n",
    "plt.savefig(\"output/q3_mean_victim_rate_per_capita_by_race.png\",dpi=400)    \n",
    "plt.legend();"
   ]
  },
  {
   "cell_type": "markdown",
   "metadata": {},
   "source": [
    "#### Observation\n",
    "\n",
    "We see that Pacific Islanders, Native Americans and Blacks are killed at a rate much higher than the national mean of 3.7. Across the states, on an average, a black person is killed at a rate ~3.5x as that of a white person every year. This suggests that there is a strong racial disparity in the police killings that is consistent across the states in the US."
   ]
  },
  {
   "cell_type": "markdown",
   "metadata": {},
   "source": [
    "Now that we know the victim rates are disproportionate across the states, we would like to see which states have the highest black-white disparity. For this, we first pivot the sumary table by race and then take the absolute difference of victim rates between black and white"
   ]
  },
  {
   "cell_type": "code",
   "execution_count": 377,
   "metadata": {},
   "outputs": [
    {
     "data": {
      "text/html": [
       "<div>\n",
       "<style scoped>\n",
       "    .dataframe tbody tr th:only-of-type {\n",
       "        vertical-align: middle;\n",
       "    }\n",
       "\n",
       "    .dataframe tbody tr th {\n",
       "        vertical-align: top;\n",
       "    }\n",
       "\n",
       "    .dataframe thead th {\n",
       "        text-align: right;\n",
       "    }\n",
       "</style>\n",
       "<table border=\"1\" class=\"dataframe\">\n",
       "  <thead>\n",
       "    <tr style=\"text-align: right;\">\n",
       "      <th>race_name</th>\n",
       "      <th>name</th>\n",
       "      <th>Asian</th>\n",
       "      <th>Black</th>\n",
       "      <th>Hispanic</th>\n",
       "      <th>Native American</th>\n",
       "      <th>Pacific Islander</th>\n",
       "      <th>White</th>\n",
       "      <th>bw_rate_difference</th>\n",
       "    </tr>\n",
       "  </thead>\n",
       "  <tbody>\n",
       "    <tr>\n",
       "      <th>0</th>\n",
       "      <td>Alabama</td>\n",
       "      <td>1.982860</td>\n",
       "      <td>5.834161</td>\n",
       "      <td>0.000000</td>\n",
       "      <td>0.000000</td>\n",
       "      <td>0.000000</td>\n",
       "      <td>3.302717</td>\n",
       "      <td>2.531444</td>\n",
       "    </tr>\n",
       "    <tr>\n",
       "      <th>1</th>\n",
       "      <td>Alaska</td>\n",
       "      <td>0.000000</td>\n",
       "      <td>23.622512</td>\n",
       "      <td>2.971424</td>\n",
       "      <td>15.890230</td>\n",
       "      <td>0.000000</td>\n",
       "      <td>5.843120</td>\n",
       "      <td>17.779392</td>\n",
       "    </tr>\n",
       "    <tr>\n",
       "      <th>2</th>\n",
       "      <td>Arizona</td>\n",
       "      <td>0.000000</td>\n",
       "      <td>13.593874</td>\n",
       "      <td>7.366359</td>\n",
       "      <td>6.969102</td>\n",
       "      <td>0.000000</td>\n",
       "      <td>5.149064</td>\n",
       "      <td>8.444810</td>\n",
       "    </tr>\n",
       "    <tr>\n",
       "      <th>3</th>\n",
       "      <td>Arkansas</td>\n",
       "      <td>2.940173</td>\n",
       "      <td>9.519531</td>\n",
       "      <td>1.865146</td>\n",
       "      <td>0.000000</td>\n",
       "      <td>0.000000</td>\n",
       "      <td>3.942975</td>\n",
       "      <td>5.576556</td>\n",
       "    </tr>\n",
       "    <tr>\n",
       "      <th>4</th>\n",
       "      <td>California</td>\n",
       "      <td>1.070996</td>\n",
       "      <td>12.090389</td>\n",
       "      <td>4.640559</td>\n",
       "      <td>6.160063</td>\n",
       "      <td>8.779263</td>\n",
       "      <td>3.347654</td>\n",
       "      <td>8.742735</td>\n",
       "    </tr>\n",
       "  </tbody>\n",
       "</table>\n",
       "</div>"
      ],
      "text/plain": [
       "race_name        name     Asian      Black  Hispanic  Native American  \\\n",
       "0             Alabama  1.982860   5.834161  0.000000         0.000000   \n",
       "1              Alaska  0.000000  23.622512  2.971424        15.890230   \n",
       "2             Arizona  0.000000  13.593874  7.366359         6.969102   \n",
       "3            Arkansas  2.940173   9.519531  1.865146         0.000000   \n",
       "4          California  1.070996  12.090389  4.640559         6.160063   \n",
       "\n",
       "race_name  Pacific Islander     White  bw_rate_difference  \n",
       "0                  0.000000  3.302717            2.531444  \n",
       "1                  0.000000  5.843120           17.779392  \n",
       "2                  0.000000  5.149064            8.444810  \n",
       "3                  0.000000  3.942975            5.576556  \n",
       "4                  8.779263  3.347654            8.742735  "
      ]
     },
     "execution_count": 377,
     "metadata": {},
     "output_type": "execute_result"
    }
   ],
   "source": [
    "state_race_pivot = summary_by_state_race.pivot_table(index='name',columns='race_name',values='killings_per_mil_per_yr',\n",
    "                                                     aggfunc='max').reset_index().fillna(0)\n",
    "state_race_pivot['bw_rate_difference'] = state_race_pivot.Black - state_race_pivot.White\n",
    "state_race_pivot.head()"
   ]
  },
  {
   "cell_type": "markdown",
   "metadata": {},
   "source": [
    "Export the summary table as csv"
   ]
  },
  {
   "cell_type": "code",
   "execution_count": 378,
   "metadata": {},
   "outputs": [],
   "source": [
    "state_race_pivot.to_csv('output/q3_summary_by_state.csv',index=False)"
   ]
  },
  {
   "cell_type": "markdown",
   "metadata": {},
   "source": [
    "We plot the top 10 states with the highest racial disparity in the police killings between black and white races"
   ]
  },
  {
   "cell_type": "code",
   "execution_count": 380,
   "metadata": {},
   "outputs": [
    {
     "data": {
      "image/png": "[encoded data removed]",
      "text/plain": [
       "<Figure size 864x360 with 1 Axes>"
      ]
     },
     "metadata": {
      "needs_background": "light"
     },
     "output_type": "display_data"
    }
   ],
   "source": [
    "data = state_race_pivot.sort_values('bw_rate_difference',ascending=False)[:10]\n",
    "labels, black_rate, white_rate  = list(data.name), round(data.Black,2), round(data.White,2)\n",
    "\n",
    "x = np.arange(len(labels))  # the label locations\n",
    "\n",
    "fig, ax = plt.subplots(figsize=(12,5))\n",
    "rects1 = ax.bar(x - width/2, black_rate, width=0.3, label='Victim rate for black race')\n",
    "rects2 = ax.bar(x + width/2, white_rate, width=0.3, label='Victim rate for white race')\n",
    "\n",
    "# Add some text for labels, title and custom x-axis tick labels, etc.\n",
    "ax.set_ylabel('Victim rate per million per year',fontsize=12)\n",
    "ax.set_xlabel('',fontsize=12)\n",
    "ax.set_title('States with the largest disparity in victim rates between Black and White races',fontsize=15)\n",
    "ax.set_xticks(x)\n",
    "plt.xticks(rotation=30)\n",
    "ax.set_xticklabels(labels,fontsize=12)\n",
    "ax.legend(fontsize=12)\n",
    "\n",
    "def autolabel(rects):\n",
    "    \"\"\"Attach a text label above each bar in *rects*, displaying its height.\"\"\"\n",
    "    for rect in rects:\n",
    "        height = rect.get_height()\n",
    "        ax.annotate('{:.1f}'.format(height),xy=(rect.get_x() + rect.get_width() / 2, height),\n",
    "                    xytext=(0, 3),  textcoords=\"offset points\",ha='center', va='bottom',fontsize=12)\n",
    "autolabel(rects1),autolabel(rects2)\n",
    "\n",
    "fig.tight_layout()\n",
    "plt.savefig(\"output/q3_top_states_with_highest_bw_disparity.png\",dpi=400)\n",
    "plt.show();"
   ]
  },
  {
   "cell_type": "markdown",
   "metadata": {},
   "source": [
    "#### Observation\n",
    "\n",
    "In Utah, black people were ~10x as likely to be killed by police as white people, whereas in California the rate is ~3.5x. 44 of the 50 states have a higher killings rate /million for Black than White, suggesting a strong racial disparity"
   ]
  },
  {
   "cell_type": "markdown",
   "metadata": {},
   "source": [
    "## Discussion <a class=\"anchor\" id=\"dataprep\"></a>"
   ]
  },
  {
   "cell_type": "markdown",
   "metadata": {},
   "source": [
    "### Limitations\n",
    "\n",
    "The arrests estimates provided by UCR is summarized by race and ethnicity. Not all agencies report the numbers for ethnicity as mentioned in the website because of which the totals for race and ethnicity do not match. Since I have used the summary for ethnicty instead of race in order to include Hispanic in my study, the data is not the most comprehemsive. However, as I have used only proportions and not absolute numbers in order to derive expected distribution, I believe this should not be of concern. To obtain the non-hispanic counts for each races, I used their arrests proportion and simply apportioned the total counts to each race. There might be better alternatives to get these counts which I did not explore during the course of this project.\n",
    "\n",
    "### Implications\n",
    "\n",
    "My second research question focused on whether individuals in minority groups are disproportionately killed by the police when unarmed. We did see a disparity in the police killings on Black and Hispanic individuals. This raises an important question of whether the police perceive a black or hispanic person to be hostile in general, even when they do not possess any weapon. This analysis along with the state level analysis can be used by the law enforcement agencies and policymakers to train police personnel to not resort to shootings or use of excessive force in such circumstances. Even though the number of unarmed killings has been on a decline, it is not slowing down as fast as one would expect and 117 deaths in 2019 is still alarming at a nation level.\n",
    "\n",
    "While we observed a racial disparity in the police killings through our research questions, it has to be noted that the data is limited in terms of the number of atttributes we used given the scope of the project and time constraints. We cannot generalize it and conclusively say that police are biased against blacks or other minority groups. A holistic view on the isue of racial bias in policing requires additional data such as the income levels of the victims, the neighborhood where the incidents took place, the context in which the killings happened and list of all police encounters, not just the ones which resulted in a fatality. My next step would be to use all these factors as a future work, provided the data is available.\n",
    "\n",
    "### Ethical considerations\n",
    "\n",
    "While the police killings data has the name and gender of the victims, I made a conscious effort to not use these attributes anywhere in my analysis."
   ]
  },
  {
   "cell_type": "markdown",
   "metadata": {},
   "source": [
    "## Conclusion <a class=\"anchor\" id=\"dataprep\"></a>\n",
    "\n",
    "We saw that given arrest rates as a benchmark, the distribution of the police killings across races were different from what an actual distribution would look like with a statistical significance suggesting racial disparity in the killings. Asians and Blacks are likely to be killed at a higher rate than what is expected. Similarly, we observed that the rates of police killings involving unarmed individuals across races were different from an expected distribution with a statistical significance indicating racial disparity. Blacks and Hispanics are likely to be killed at a higher rate by the police despite being unarmed. Based on victim rates per million of population, racial disparity in police killings is consistently observed across the states, with a black person likely to be killed at a much higher rate than a white person."
   ]
  },
  {
   "cell_type": "code",
   "execution_count": null,
   "metadata": {},
   "outputs": [],
   "source": []
  }
 ],
 "metadata": {
  "kernelspec": {
   "display_name": "Python 3",
   "language": "python",
   "name": "python3"
  },
  "language_info": {
   "codemirror_mode": {
    "name": "ipython",
    "version": 3
   },
   "file_extension": ".py",
   "mimetype": "text/x-python",
   "name": "python",
   "nbconvert_exporter": "python",
   "pygments_lexer": "ipython3",
   "version": "3.7.4"
  }
 },
 "nbformat": 4,
 "nbformat_minor": 2
}
