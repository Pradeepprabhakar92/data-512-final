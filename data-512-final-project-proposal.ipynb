{
 "cells": [
  {
   "cell_type": "markdown",
   "metadata": {},
   "source": [
    "## DATA 512 Final project\n",
    "\n",
    "# Exploring the racial disparities in police killings in the US"
   ]
  },
  {
   "cell_type": "markdown",
   "metadata": {},
   "source": [
    "## A5: Final project proposal"
   ]
  },
  {
   "cell_type": "markdown",
   "metadata": {},
   "source": [
    "### Motivation:\n",
    "\n",
    "   The issue of racial bias in policing system in the US has been a widely discussed and debated topic not only in the US, but across nations. The shooting of Michael Brown in Ferguson, Missouri in 2014 and more recently the use of excessive force that resulted in the death of George Floyd triggered protests across the globe and the rise of Black Lives Matter movement that called for various measures ranging from law enforcement reforms to defunding the police departments.  Although efforts have been taken in the past few years to gather data from law enforcement agencies and officers on a voluntary basis, data are still limited, which pose challenges to making policy reforms. \n",
    "\n",
    "For the final project, I would like to analyze police killings in the US between 2013 and till date, explore racial disparities, if any, in these killings and how the different racial and ethnic groups are affected at a nation level and across states/cities. Understanding how these police killings affect different racial groups and the extent of racial bias in these killings is therefore an important topic that has a very strong human-centered outlook. Any insights on police violence and racial equity in these killings will serve as an evidence that will support changes to policies and reforms around training and hiring of law enforcement officers, thereby resulting in reduced number of fatalities among both civilians and police officers. These serve as motivators for me to perform this analysis and while the human-centered nature makes it a difficult problem to analyze (since we have to look at both sides of the coin), I hope my analysis and insights carry minimal bias, accounting for any confounding factors during the process."
   ]
  },
  {
   "cell_type": "markdown",
   "metadata": {},
   "source": [
    "### Data:\n",
    "\n",
    "In order to understand the effect of police killings on different racial groups in the US, I will be using the following data sources \n",
    "* [mappingpoliceviolence.org](https://mappingpoliceviolence.org/aboutthedata) – a research collaborative that collects comprehensive data on police killings nationwide in the US (~ 8,500 killings starting from 2013 till date). Mapping police violence meticulously sources information from the three largest, most comprehensive, and impartial crowdsourced databases on police killings in the country: [FatalEncounters.org](https://fatalencounters.org/), the [U.S. Police Shootings Database](http://homicidecenter.org/services/resources/police-shootings/) and [KilledbyPolice.net](https://killedbypolice.net/). The site also performs extensive original research to further improve the quality and completeness of the data; searching social media, obituaries, criminal records databases, police reports and other sources to identify the race of 90 percent of all victims in the database. Any case where a person dies as a result of being shot, beaten, restrained, intentionally hit by a police vehicle, pepper sprayed, tasered, or otherwise harmed by police officers, whether on-duty or off-duty is defined as a police killing in the database.\n",
    "\n",
    "Following are the attributes found in the police killings data\n",
    "\n",
    "| Attributes                                                                        |\n",
    "|-----------------------------------------------------------------------------------|\n",
    "| Victim's name                                                                     |\n",
    "| Victim's age                                                                      |\n",
    "| Victim's gender                                                                   |\n",
    "| Victim's race                                                                     |\n",
    "| URL of image of victim                                                            |\n",
    "| Date of Incident (month/day/year)                                                 |\n",
    "| Street Address of Incident                                                        |\n",
    "| City                                                                              |\n",
    "| State                                                                             |\n",
    "| Zipcode                                                                           |\n",
    "| County                                                                            |\n",
    "| Agency responsible for death                                                      |\n",
    "| ORI Agency Identifier (if available)                                              |\n",
    "| Cause of death                                                                    |\n",
    "| A brief description of the circumstances   surrounding the death                  |\n",
    "| Official disposition of death (justified   or other)                              |\n",
    "| Criminal Charges                                                                  |\n",
    "| Link to news article or photo of official   document                              |\n",
    "| Symptoms of mental illness?                                                       |\n",
    "| Unarmed/Did Not Have an Actual Weapon                                             |\n",
    "| Alleged Weapon (Source: WaPo and Review   of Cases Not Included in WaPo Database) |\n",
    "| Alleged Threat Level (Source: WaPo)                                               |\n",
    "| Fleeing (Source: WaPo)                                                            |\n",
    "| Body Camera (Source: WaPo)                                                        |\n",
    "| WaPo ID (If included in WaPo database)                                            |\n",
    "| Off-Duty Killing?                                                                 |\n",
    "| Geography                                                                         |\n",
    "| MPV ID                                                                            |\n",
    "| Fatal Encounters ID                                                               |\n",
    "\n",
    "* [US Census Bureau](https://www.census.gov/en.html) – provides population and median income estimates for demographic profiles such as age, gender and race at state and nation level.\n",
    "* [Uniform Crime Reporting](https://www.fbi.gov/services/cjis/ucr/) - The FBI’s Uniform Crime Reporting (UCR) Program counts one arrest for each separate instance in which a person is arrested, cited, or summoned for an offense. The UCR Program collects arrest data on 28 offenses for each year. The arrests data will be used as an alternative benchmark to analyze racial disparity in the killings.\n",
    "\n",
    "\n",
    "While the license for the datasets are not explicitly mentioned on the website, they are available for the public to download freely.\n"
   ]
  },
  {
   "cell_type": "markdown",
   "metadata": {},
   "source": [
    "### Research questions and/or hypotheses\n",
    "\n",
    "I am interested in exploring the data to answer the following research questions\n",
    "\n",
    "* How do the police killings vary across the racial/ethnic groups? \n",
    "    * Are individuals in a particular racial group disproportionately killed by the police compared to the others?\n",
    "    * What are the odds of an individual belonging to a racial group being killed based on a)population proportion and b) arrests proportion?\n",
    "        * Null Hypothesis: There is no difference between the proportion of arrests/population and the proportion of victims of police killings across the races. \n",
    "* How do the police killings vary across states/cities? \n",
    "    * Are individuals of a particular racial/ethnic group in certain states/ cities more likely to be killed by the police than others?\n",
    "* How do the police killings vary across the age for the racial groups?\n",
    "* How do the police killings vary across the perceived threat of the victims(armed/un-armed) for the racial groups? \n"
   ]
  },
  {
   "cell_type": "markdown",
   "metadata": {},
   "source": [
    "### Background and Related Work\n",
    "\n",
    "About ~1000 civilians are killed each year by law enforcement officers in the United States. Rates of police killings in the United States have been much higher than comparable countries ([Guardian report](https://www.theguardian.com/us-news/2015/jun/09/the-counted-police-killings-us-vs-other-countries)), though to an extent this could be attributed to the fact that the police in the US often contend with much more violent situations and more heavily armed individuals than the police in other developed societies. Databases such as Fatal Encounters, Mapping Police Violence and The Washington Post’s Fatal Force project have tracked the killings year after year. Many works have been conducted in the past that looked for patterns in the police killings across different races and ethnic groups. The article from [J.Nix et al.](https://onlinelibrary.wiley.com/doi/abs/10.1111/1745-9133.12269) analyzed 990 police shootings compiled by *The Washington Post* in 2015 for evidence of implicit bias, and the [mapping fatal police violence](https://www.ncbi.nlm.nih.gov/pmc/articles/PMC7313728/) article analyzed police killings from *Fatal Encounters* for overall rates of police violence across the US as well as racial inequities. The [article](https://www.nature.com/articles/d41586-019-02601-9) in *nature* talks about how racial biases play into deadly encounetrs with the police. A recent [analysis](https://fivethirtyeight.com/features/police-are-killing-fewer-people-in-big-cities-but-more-in-suburban-and-rural-america/) from *FiveThirtyEight* observed that police are killing fewer people in big cities, but more in suburban and rural America. While some of the works have used data from Washington post, I have chosen to use the data from mapping police violence as it is extensive and also includes cases where police kill someone through use of a chokehold, baton, taser etc. Based on the findings informed from these works as well as the data sources at my disposal, I hope to perform an extensive exploratory analysis to answer my research questions"
   ]
  },
  {
   "cell_type": "markdown",
   "metadata": {},
   "source": [
    "### Methodology:\n",
    "\n",
    "#### Preprocessing:\n",
    "* Since the data provided by the mapping police violence requires some data cleaning and munging, pandas and numpy will be used for data preprocessing. For attributes with missing values such as age and gender, depending on the variable importance/ information gain provided by the attribute, either missing value imputation will be performed or the record will be dropped. If the race associated with a victim is \"Unknown\" or \"null\", the record will be dropped from the analysis, and the corresponding data loss will be reported.\n",
    "\n",
    "#### Exploratory Analysis:\n",
    "* In order to answer the aforementioned research questions, an exploratory analysis of the underlying mapping violence data, census data and UCR data will be performed at various levels of aggregtion. In addition to population estimates that are widely used as a benchmark to identify racial disparities, I will also be using the arrests data as an alternative benchmark. The idea of population estimates assumes that every person within each group is equally likely to be exposed to an encounter which may not necessarily be an exact representation, as mentioned in this [study](https://journals.sagepub.com/doi/full/10.1177/1948550618775108) by Cesario et al.  Pandas will be predominantly used to perform the aggregations and the subsequent analysis, and for the visual analysis, matplotlib and searborn will be used.\n",
    "\n",
    "#### Statistical significance:\n",
    "* To compare the proportion of arrests/population vs. proportion of victims, a chi-square goodness-of-fit test will be performed to see if the expected and observed frequencies for the racial groups are statistically different. Chi-Square goodness of fit test is a non-parametric test that is used to find out how the observed value of a given phenomena is significantly different from the expected value. A significant p-value would likely indicate racial bias in the police killings. The [scipy.stats.chisquare](https://docs.scipy.org/doc/scipy/reference/generated/scipy.stats.chisquare.html) function from the scipy library will be used to conduct the test."
   ]
  },
  {
   "cell_type": "markdown",
   "metadata": {},
   "source": [
    "### Unknowns/ Challenges:\n",
    "\n",
    "Working on multiple data sources might pose some challenges while joining as the level of data may not be the same across the data. The UCR provides the arrest data for each year as a seperate file and therefore data collation is required before using it for the analysis. Having said that, I believe that I should be in a position to complete this project by the end of this quarter as I am able to download all the data sources and I do not foresee any major challenges with regards to the data collection and subsequent exploration.\n"
   ]
  },
  {
   "cell_type": "code",
   "execution_count": null,
   "metadata": {},
   "outputs": [],
   "source": []
  }
 ],
 "metadata": {
  "kernelspec": {
   "display_name": "Python 3",
   "language": "python",
   "name": "python3"
  },
  "language_info": {
   "codemirror_mode": {
    "name": "ipython",
    "version": 3
   },
   "file_extension": ".py",
   "mimetype": "text/x-python",
   "name": "python",
   "nbconvert_exporter": "python",
   "pygments_lexer": "ipython3",
   "version": "3.7.4"
  }
 },
 "nbformat": 4,
 "nbformat_minor": 2
}
