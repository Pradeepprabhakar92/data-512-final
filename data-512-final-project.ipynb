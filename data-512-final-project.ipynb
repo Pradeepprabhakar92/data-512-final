{
 "cells": [
  {
   "cell_type": "markdown",
   "metadata": {},
   "source": [
    "## DATA 512 Final project\n",
    "\n",
    "## Exploring the racial/ethnic disparities in police killings in the US"
   ]
  },
  {
   "cell_type": "markdown",
   "metadata": {},
   "source": [
    "### Preliminary project proposal"
   ]
  },
  {
   "cell_type": "markdown",
   "metadata": {},
   "source": [
    "### Motivation:\n",
    "\n",
    "About ~1000 civilians are killed each year by law enforcement officers in the United States. Rates of police killings in the United States have been much higher than comparable countries ([Guardian report](https://www.theguardian.com/us-news/2015/jun/09/the-counted-police-killings-us-vs-other-countries)), though to an extent this could be attributed to the fact that the police in the US often contend with much more violent situations and more heavily armed individuals than the police in other developed societies. The issue of racial bias in policing system in the US has been a widely discussed and debated topic not only in the US, but across nations. The shooting of Michael Brown in Ferguson, Missouri in 2014 and more recently the use of excessive force that resulted in the death of George Floyd triggered protests across the globe and the rise of Black Lives Matter movement that called for various measures ranging from law enforcement reforms to defunding the police departments. Many works have been conducted in the past that looked for patterns in the [arrests](https://abcnews.go.com/US/abc-news-analysis-police-arrests-nationwide-reveals-stark/story?id=71188546), [stops](https://openjustice.doj.ca.gov/exploration/stop-data) and killings([1](https://onlinelibrary.wiley.com/doi/abs/10.1111/1745-9133.12269), [2](https://www.ncbi.nlm.nih.gov/pmc/articles/PMC7313728/)) across different races and ethnic groups. Although efforts have been taken in the past few years to gather data from law enforcement agencies and officers on a voluntary basis, data are still limited, which pose challenges to making policy reforms. \n",
    "\n",
    "Understanding how these police killings affect different racial groups and the extent of racial bias in these killings, if any, is therefore an important topic that has a very strong human-centered outlook. Any insights on police violence and racial equity in these killings will serve as an evidence that will support changes to policies and reforms around training and hiring of law enforcement officers. These serve as motivators for me to perform this analysis and while the human-centered nature makes it a difficult problem to analyze (since we have to look at both sides of the coin), I hope my analysis and insights carry minimal bias, accounting for any confounding factors during the process.\n"
   ]
  },
  {
   "cell_type": "markdown",
   "metadata": {},
   "source": [
    "### Data:\n",
    "\n",
    "In order to understand the effect of police killings on different racial groups in the US, I will be using two key data sources \n",
    "* [mappingpoliceviolence.org](https://mappingpoliceviolence.org/aboutthedata) – a research collaborative that collects comprehensive data on police killings nationwide in the US (~ 8,500 killings starting from 2013 till date), and \n",
    "* [US Census Bureau](https://www.census.gov/en.html) – provides population estimates for demographic profiles such as age, gender and race at state and nation level. \n",
    "Both these data sources are freely available for the public to download.\n",
    "\n",
    "Mapping police violence meticulously sources information from the three largest, most comprehensive, and impartial crowdsourced databases on police killings in the country: [FatalEncounters.org](https://fatalencounters.org/), the [U.S. Police Shootings Database](http://homicidecenter.org/services/resources/police-shootings/) and [KilledbyPolice.net](https://killedbypolice.net/). The site also performs extensive original research to further improve the quality and completeness of the data; searching social media, obituaries, criminal records databases, police reports and other sources to identify the race of 90 percent of all victims in the database. Any case where a person dies as a result of being shot, beaten, restrained, intentionally hit by a police vehicle, pepper sprayed, tasered, or otherwise harmed by police officers, whether on-duty or off-duty is defined as a police killing in the database.\n"
   ]
  },
  {
   "cell_type": "markdown",
   "metadata": {},
   "source": [
    "### Unknowns:\n",
    "\n",
    "I believe that I should be in a position to complete this project by the end of this quarter, as I do not foresee any challenges with regards to the data collection and subsequent exploration.\n"
   ]
  },
  {
   "cell_type": "code",
   "execution_count": null,
   "metadata": {},
   "outputs": [],
   "source": []
  }
 ],
 "metadata": {
  "kernelspec": {
   "display_name": "Python 3",
   "language": "python",
   "name": "python3"
  },
  "language_info": {
   "codemirror_mode": {
    "name": "ipython",
    "version": 3
   },
   "file_extension": ".py",
   "mimetype": "text/x-python",
   "name": "python",
   "nbconvert_exporter": "python",
   "pygments_lexer": "ipython3",
   "version": "3.7.4"
  }
 },
 "nbformat": 4,
 "nbformat_minor": 2
}
